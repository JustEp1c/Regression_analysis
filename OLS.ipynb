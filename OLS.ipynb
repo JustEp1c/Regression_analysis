{
 "nbformat": 4,
 "nbformat_minor": 0,
 "metadata": {
  "colab": {
   "provenance": [],
   "collapsed_sections": []
  },
  "kernelspec": {
   "name": "python3",
   "display_name": "Python 3"
  },
  "language_info": {
   "name": "python"
  }
 },
 "cells": [
  {
   "cell_type": "markdown",
   "source": [
    "# Задание\n",
    "1. Изучить пример, приведенный ниже.\n",
    "2. Получить свой датасет у преподавателя.\n",
    "3. Выбрать числовые признаки и таргет в датасете (признаки делаем числовыми или исключаем их).\n",
    "2. Проанализировать результаты, полученные с помощью statsmodels.\n",
    "3. Построить регрессионную зависимость (sklearn [тык](https://scikit-learn.ru/user_guide/)) с помощью метода наименьших квадратов, используя вычисление обратной матрицы. \n",
    "4. Построить регрессионную зависимость (sklearn) с помощью метода наименьших квадратов, используя метод градиентного спуска. \n",
    "4. Сравнить и описать результаты."
   ],
   "metadata": {
    "id": "JBl74arSKMbs",
    "pycharm": {
     "name": "#%% md\n"
    }
   }
  },
  {
   "cell_type": "markdown",
   "source": [
    "# Регрессионный анализ\n",
    "[Wiki](https://ru.wikipedia.org/wiki/%D0%A0%D0%B5%D0%B3%D1%80%D0%B5%D1%81%D1%81%D0%B8%D0%BE%D0%BD%D0%BD%D1%8B%D0%B9_%D0%B0%D0%BD%D0%B0%D0%BB%D0%B8%D0%B7)\n"
   ],
   "metadata": {
    "id": "LHhuJip5l-oY",
    "pycharm": {
     "name": "#%% md\n"
    }
   }
  },
  {
   "cell_type": "code",
   "execution_count": 2,
   "metadata": {
    "id": "nmfCXTlqhg-P",
    "pycharm": {
     "name": "#%%\n"
    }
   },
   "outputs": [],
   "source": [
    "import matplotlib.pyplot as plt\n",
    "import numpy as np\n",
    "import pandas as pd\n",
    "import scipy as sp\n",
    "import seaborn as sns\n",
    "import statsmodels.api as sm\n",
    "import statsmodels.tsa.api as smt\n",
    "import warnings\n",
    "from sklearn.linear_model import LinearRegression\n",
    "from sklearn.model_selection import train_test_split\n",
    "from statsmodels.stats.outliers_influence import variance_inflation_factor\n",
    "\n",
    "warnings.filterwarnings(\"ignore\")\n",
    "%matplotlib inline"
   ]
  },
  {
   "cell_type": "markdown",
   "source": [
    "Немного о pandas\n",
    "\n",
    "[Документация](https://pandas.pydata.org/docs/user_guide/index.html#user-guide) \n",
    "\n",
    "[Шпаргалка](https://smysl.io/blog/pandas/) \n",
    "\n",
    "[Еще немного](https://blog.skillfactory.ru/kak-nachat-analizirovat-dannye-v-pandas-pervye-shagi/)\n",
    "\n",
    "[Работа с датой](https://habr.com/ru/company/wunderfund/blog/677068/)"
   ],
   "metadata": {
    "id": "zbawK26MN_9-",
    "pycharm": {
     "name": "#%% md\n"
    }
   }
  },
  {
   "cell_type": "code",
   "source": [
    "df = pd.read_csv('datasets/Processed_NASDAQ.csv')"
   ],
   "metadata": {
    "id": "_905-6gShtGg",
    "colab": {
     "base_uri": "https://localhost:8080/",
     "height": 311
    },
    "outputId": "6da79082-eb3c-464a-a438-412bf1836cd5",
    "pycharm": {
     "name": "#%%\n"
    }
   },
   "execution_count": 6,
   "outputs": []
  },
  {
   "cell_type": "code",
   "source": [
    "print (\"Total number of rows in dataset = {}\".format(df.shape[0]))\n",
    "print (\"Total number of columns in dataset = {}\".format(df.shape[1]))"
   ],
   "metadata": {
    "colab": {
     "base_uri": "https://localhost:8080/"
    },
    "id": "jZJhk6ZhhxCU",
    "outputId": "15a4917a-23e1-4103-d64f-f1e76b223c9e",
    "pycharm": {
     "name": "#%%\n"
    }
   },
   "execution_count": 8,
   "outputs": [
    {
     "name": "stdout",
     "output_type": "stream",
     "text": [
      "Total number of rows in dataset = 1984\n",
      "Total number of columns in dataset = 84\n"
     ]
    }
   ]
  },
  {
   "cell_type": "code",
   "source": [
    "df.head()"
   ],
   "metadata": {
    "colab": {
     "base_uri": "https://localhost:8080/",
     "height": 206
    },
    "id": "27CSi-tHh1Hw",
    "outputId": "6df73e9c-66a0-4e67-a0b1-592a227e3b94",
    "pycharm": {
     "name": "#%%\n"
    }
   },
   "execution_count": 9,
   "outputs": [
    {
     "data": {
      "text/plain": "         Date        Close    Volume       mom      mom1      mom2      mom3  \\\n0  2009-12-31  2269.149902       NaN       NaN       NaN       NaN       NaN   \n1  2010-01-04  2308.419922  0.560308  0.017306       NaN       NaN       NaN   \n2  2010-01-05  2308.709961  0.225994  0.000126  0.017306       NaN       NaN   \n3  2010-01-06  2301.090088 -0.048364 -0.003300  0.000126  0.017306       NaN   \n4  2010-01-07  2300.050049  0.007416 -0.000452 -0.003300  0.000126  0.017306   \n\n   ROC_5  ROC_10  ROC_15  ...   NZD  silver-F  RUSSELL-F  S&P-F   CHF  \\\n0    NaN     NaN     NaN  ...  0.03      0.26      -1.08  -1.00 -0.11   \n1    NaN     NaN     NaN  ...  1.52      3.26       1.61   1.62 -0.57   \n2    NaN     NaN     NaN  ... -0.07      1.96      -0.20   0.31  0.43   \n3    NaN     NaN     NaN  ...  0.56      2.15      -0.02   0.07 -0.56   \n4    NaN     NaN     NaN  ... -0.72      0.94       0.50   0.40  0.58   \n\n   Dollar index-F  Dollar index  wheat-F   XAG   XAU  \n0           -0.08         -0.06    -0.48  0.30  0.39  \n1           -0.59         -0.42     3.12  3.91  2.10  \n2            0.03          0.12    -0.90  1.42 -0.12  \n3           -0.24         -0.17     2.62  2.25  1.77  \n4            0.58          0.54    -1.85  0.22 -0.58  \n\n[5 rows x 84 columns]",
      "text/html": "<div>\n<style scoped>\n    .dataframe tbody tr th:only-of-type {\n        vertical-align: middle;\n    }\n\n    .dataframe tbody tr th {\n        vertical-align: top;\n    }\n\n    .dataframe thead th {\n        text-align: right;\n    }\n</style>\n<table border=\"1\" class=\"dataframe\">\n  <thead>\n    <tr style=\"text-align: right;\">\n      <th></th>\n      <th>Date</th>\n      <th>Close</th>\n      <th>Volume</th>\n      <th>mom</th>\n      <th>mom1</th>\n      <th>mom2</th>\n      <th>mom3</th>\n      <th>ROC_5</th>\n      <th>ROC_10</th>\n      <th>ROC_15</th>\n      <th>...</th>\n      <th>NZD</th>\n      <th>silver-F</th>\n      <th>RUSSELL-F</th>\n      <th>S&amp;P-F</th>\n      <th>CHF</th>\n      <th>Dollar index-F</th>\n      <th>Dollar index</th>\n      <th>wheat-F</th>\n      <th>XAG</th>\n      <th>XAU</th>\n    </tr>\n  </thead>\n  <tbody>\n    <tr>\n      <th>0</th>\n      <td>2009-12-31</td>\n      <td>2269.149902</td>\n      <td>NaN</td>\n      <td>NaN</td>\n      <td>NaN</td>\n      <td>NaN</td>\n      <td>NaN</td>\n      <td>NaN</td>\n      <td>NaN</td>\n      <td>NaN</td>\n      <td>...</td>\n      <td>0.03</td>\n      <td>0.26</td>\n      <td>-1.08</td>\n      <td>-1.00</td>\n      <td>-0.11</td>\n      <td>-0.08</td>\n      <td>-0.06</td>\n      <td>-0.48</td>\n      <td>0.30</td>\n      <td>0.39</td>\n    </tr>\n    <tr>\n      <th>1</th>\n      <td>2010-01-04</td>\n      <td>2308.419922</td>\n      <td>0.560308</td>\n      <td>0.017306</td>\n      <td>NaN</td>\n      <td>NaN</td>\n      <td>NaN</td>\n      <td>NaN</td>\n      <td>NaN</td>\n      <td>NaN</td>\n      <td>...</td>\n      <td>1.52</td>\n      <td>3.26</td>\n      <td>1.61</td>\n      <td>1.62</td>\n      <td>-0.57</td>\n      <td>-0.59</td>\n      <td>-0.42</td>\n      <td>3.12</td>\n      <td>3.91</td>\n      <td>2.10</td>\n    </tr>\n    <tr>\n      <th>2</th>\n      <td>2010-01-05</td>\n      <td>2308.709961</td>\n      <td>0.225994</td>\n      <td>0.000126</td>\n      <td>0.017306</td>\n      <td>NaN</td>\n      <td>NaN</td>\n      <td>NaN</td>\n      <td>NaN</td>\n      <td>NaN</td>\n      <td>...</td>\n      <td>-0.07</td>\n      <td>1.96</td>\n      <td>-0.20</td>\n      <td>0.31</td>\n      <td>0.43</td>\n      <td>0.03</td>\n      <td>0.12</td>\n      <td>-0.90</td>\n      <td>1.42</td>\n      <td>-0.12</td>\n    </tr>\n    <tr>\n      <th>3</th>\n      <td>2010-01-06</td>\n      <td>2301.090088</td>\n      <td>-0.048364</td>\n      <td>-0.003300</td>\n      <td>0.000126</td>\n      <td>0.017306</td>\n      <td>NaN</td>\n      <td>NaN</td>\n      <td>NaN</td>\n      <td>NaN</td>\n      <td>...</td>\n      <td>0.56</td>\n      <td>2.15</td>\n      <td>-0.02</td>\n      <td>0.07</td>\n      <td>-0.56</td>\n      <td>-0.24</td>\n      <td>-0.17</td>\n      <td>2.62</td>\n      <td>2.25</td>\n      <td>1.77</td>\n    </tr>\n    <tr>\n      <th>4</th>\n      <td>2010-01-07</td>\n      <td>2300.050049</td>\n      <td>0.007416</td>\n      <td>-0.000452</td>\n      <td>-0.003300</td>\n      <td>0.000126</td>\n      <td>0.017306</td>\n      <td>NaN</td>\n      <td>NaN</td>\n      <td>NaN</td>\n      <td>...</td>\n      <td>-0.72</td>\n      <td>0.94</td>\n      <td>0.50</td>\n      <td>0.40</td>\n      <td>0.58</td>\n      <td>0.58</td>\n      <td>0.54</td>\n      <td>-1.85</td>\n      <td>0.22</td>\n      <td>-0.58</td>\n    </tr>\n  </tbody>\n</table>\n<p>5 rows × 84 columns</p>\n</div>"
     },
     "execution_count": 9,
     "metadata": {},
     "output_type": "execute_result"
    }
   ]
  },
  {
   "cell_type": "code",
   "source": [
    "df.info()"
   ],
   "metadata": {
    "colab": {
     "base_uri": "https://localhost:8080/"
    },
    "id": "Jqn4fUPrLcxF",
    "outputId": "610e356d-26d7-4ede-819f-968b5b4ecf8e",
    "pycharm": {
     "name": "#%%\n"
    }
   },
   "execution_count": null,
   "outputs": [
    {
     "output_type": "stream",
     "name": "stdout",
     "text": [
      "<class 'pandas.core.frame.DataFrame'>\n",
      "RangeIndex: 200 entries, 0 to 199\n",
      "Data columns (total 4 columns):\n",
      " #   Column     Non-Null Count  Dtype  \n",
      "---  ------     --------------  -----  \n",
      " 0   Feature 1  200 non-null    float64\n",
      " 1   Feature 2  200 non-null    float64\n",
      " 2   Feature 3  200 non-null    float64\n",
      " 3   Target     200 non-null    float64\n",
      "dtypes: float64(4)\n",
      "memory usage: 6.4 KB\n"
     ]
    }
   ]
  },
  {
   "cell_type": "markdown",
   "source": [
    "По df.info() видим, что пустых значений нет. RangeIndex: 200 и Non-Null Count у всех признаков = 200.\n"
   ],
   "metadata": {
    "id": "xX3J8T-lLjnw",
    "pycharm": {
     "name": "#%% md\n"
    }
   }
  },
  {
   "cell_type": "code",
   "source": [
    "target_col = \"Target\""
   ],
   "metadata": {
    "id": "_FGytpZy-zdy",
    "pycharm": {
     "name": "#%%\n"
    }
   },
   "execution_count": null,
   "outputs": []
  },
  {
   "cell_type": "code",
   "source": [
    "X = df.loc[:, df.columns != target_col]\n",
    "y = df.loc[:, target_col]"
   ],
   "metadata": {
    "id": "z9-MCfqnh5e_",
    "pycharm": {
     "name": "#%%\n"
    }
   },
   "execution_count": null,
   "outputs": []
  },
  {
   "cell_type": "code",
   "source": [
    "# Split the data into train and test with 70% data being used for training\n",
    "X_train, X_test, y_train, y_test = train_test_split(X, y, \n",
    "                                                    test_size=0.30, \n",
    "                                                    random_state=42)"
   ],
   "metadata": {
    "id": "Q_Oh-mhYh95E",
    "pycharm": {
     "name": "#%%\n"
    }
   },
   "execution_count": null,
   "outputs": []
  },
  {
   "cell_type": "markdown",
   "source": [
    "\n",
    "# Линейная регрессия (statsmodels)\n",
    "\n"
   ],
   "metadata": {
    "id": "SD9TnDGkiA_w",
    "pycharm": {
     "name": "#%% md\n"
    }
   }
  },
  {
   "cell_type": "code",
   "source": [
    "X_with_constant = sm.add_constant(X_train)\n",
    "model = sm.OLS(y_train, X_with_constant)"
   ],
   "metadata": {
    "id": "bZ33S9QhiS00",
    "pycharm": {
     "name": "#%%\n"
    }
   },
   "execution_count": null,
   "outputs": []
  },
  {
   "cell_type": "code",
   "source": [
    "results = model.fit()\n",
    "results.params"
   ],
   "metadata": {
    "id": "IvrWdZYoiVUb",
    "colab": {
     "base_uri": "https://localhost:8080/"
    },
    "outputId": "6f16b02b-4095-4acd-bf2d-0ea1f5071c39",
    "pycharm": {
     "name": "#%%\n"
    }
   },
   "execution_count": null,
   "outputs": [
    {
     "output_type": "execute_result",
     "data": {
      "text/plain": [
       "const        2.708949\n",
       "Feature 1    0.044059\n",
       "Feature 2    0.199287\n",
       "Feature 3    0.006882\n",
       "dtype: float64"
      ]
     },
     "metadata": {},
     "execution_count": 12
    }
   ]
  },
  {
   "cell_type": "code",
   "source": [
    "print(results.summary())"
   ],
   "metadata": {
    "id": "HGlQxUj0iZfI",
    "colab": {
     "base_uri": "https://localhost:8080/"
    },
    "outputId": "fc178ba2-5c53-4ca3-95c0-e9881db8fbd9",
    "pycharm": {
     "name": "#%%\n"
    }
   },
   "execution_count": null,
   "outputs": [
    {
     "output_type": "stream",
     "name": "stdout",
     "text": [
      "                            OLS Regression Results                            \n",
      "==============================================================================\n",
      "Dep. Variable:                 Target   R-squared:                       0.906\n",
      "Model:                            OLS   Adj. R-squared:                  0.903\n",
      "Method:                 Least Squares   F-statistic:                     434.5\n",
      "Date:                Thu, 27 Oct 2022   Prob (F-statistic):           1.88e-69\n",
      "Time:                        09:50:23   Log-Likelihood:                -262.21\n",
      "No. Observations:                 140   AIC:                             532.4\n",
      "Df Residuals:                     136   BIC:                             544.2\n",
      "Df Model:                           3                                         \n",
      "Covariance Type:            nonrobust                                         \n",
      "==============================================================================\n",
      "                 coef    std err          t      P>|t|      [0.025      0.975]\n",
      "------------------------------------------------------------------------------\n",
      "const          2.7089      0.374      7.250      0.000       1.970       3.448\n",
      "Feature 1      0.0441      0.002     27.219      0.000       0.041       0.047\n",
      "Feature 2      0.1993      0.010     20.195      0.000       0.180       0.219\n",
      "Feature 3      0.0069      0.007      0.988      0.325      -0.007       0.021\n",
      "==============================================================================\n",
      "Omnibus:                       68.437   Durbin-Watson:                   2.285\n",
      "Prob(Omnibus):                  0.000   Jarque-Bera (JB):              325.342\n",
      "Skew:                          -1.709   Prob(JB):                     2.25e-71\n",
      "Kurtosis:                       9.640   Cond. No.                         500.\n",
      "==============================================================================\n",
      "\n",
      "Notes:\n",
      "[1] Standard Errors assume that the covariance matrix of the errors is correctly specified.\n"
     ]
    }
   ]
  },
  {
   "cell_type": "markdown",
   "source": [
    "1. Коэффициенты регрессии модели Y = b0 + b1∙d1 + b2∙d2 + b3∙d3:\n",
    "\n",
    "\n",
    "\n",
    "> Intercept = b0 = 2.7089\n",
    "\n",
    ">b1 = 0.0441\n",
    ">b2 = 0.1993\n",
    ">b3 = 0.0069\n",
    "\n",
    "\n",
    "2. Коэффициент детерминации R-squared = 0.906, его скорректированная оценка Adj. R-squared = 0.903 - это означает, что регрессионная модель объясняет 90% вариации переменной Y.\n",
    "\n",
    "\n",
    "3. Проверка значимости коэффициента детерминации:\n",
    "\n",
    ">расчетное значение статистики критерия Фишера: F-statistic = 434,5\n",
    "\n",
    ">расчетный уровень значимости Prob (F-statistic) = 1.88e-69\n",
    "\n",
    ">так как значение Prob (F-statistic) < 0.05, то нулевая гипотеза R-squared = 0 НЕ ПРИНИМАЕТСЯ, т.е. коэффициент детерминации ЗНАЧИМ\n",
    "\n",
    "4. Проверка значимости коэффициентов регрессии:\n",
    "\n",
    ">расчетный уровень значимости P>|t| для b0, b1, b2 не превышает 0.05 - это означает, что коэффициенты регрессии значимы\n",
    "\n",
    ">об этом же свидетельствует то, что доверительный интервал для коэффициентов регрессии ([0.025; 0.975]) не включает в себя точку 0\n",
    "\n",
    ">расчетный уровень значимости P>|t| для b3 превышает 0.05. Нулевая гипотеза не отвергается. b3 не является значимым.\n",
    "Нулевая гипотеза - коэффициет равен нулю, альтернативная - не равен.\n",
    "\n",
    "5. значение t для b3 очень мало (чем выше значение t, тем выше шанс, что мы отвергаем нулевую гипотезу).\n",
    "\n",
    "Также в таблице результатов содержится прочая информация по коэффициентам регрессии: стандартная ошибка Std.Err. "
   ],
   "metadata": {
    "id": "bLW-Ey-fniV6",
    "pycharm": {
     "name": "#%% md\n"
    }
   }
  },
  {
   "cell_type": "markdown",
   "source": [
    "# Ваше задание\n",
    "Удаляем признаки, которые не являются значимыми, и повторяем обучение без них."
   ],
   "metadata": {
    "id": "3vc-DG5GJbsX",
    "pycharm": {
     "name": "#%% md\n"
    }
   }
  },
  {
   "cell_type": "code",
   "source": [],
   "metadata": {
    "id": "TzhPiY1VGL_g",
    "pycharm": {
     "name": "#%%\n"
    }
   },
   "execution_count": null,
   "outputs": []
  },
  {
   "cell_type": "code",
   "source": [
    "X_test = sm.add_constant(X_test)"
   ],
   "metadata": {
    "id": "X7z33Rxt_geo",
    "pycharm": {
     "name": "#%%\n"
    }
   },
   "execution_count": null,
   "outputs": []
  },
  {
   "cell_type": "code",
   "source": [
    "\n",
    "y_pred = results.predict(X_test)"
   ],
   "metadata": {
    "id": "1J80j2FVidaT",
    "pycharm": {
     "name": "#%%\n"
    }
   },
   "execution_count": null,
   "outputs": []
  },
  {
   "cell_type": "code",
   "source": [
    "residual = y_test - y_pred"
   ],
   "metadata": {
    "id": "zjRpUizzifH0",
    "pycharm": {
     "name": "#%%\n"
    }
   },
   "execution_count": null,
   "outputs": []
  },
  {
   "cell_type": "markdown",
   "source": [
    "# Предпосылки линейной регрессии\n",
    "Модель линейной регрессии можно построить не для любых данных, а только для данных, которые удовлетворяют ряду условий. И прежде, чем использовать регрессионное уравнение для прогнозирования, необходимо проверить выполнение этих условий. В ином случае наша модель не будет адекватна поставленной задаче, и ее использование будет бессмысленно."
   ],
   "metadata": {
    "id": "Bl78Zd_o_seD",
    "pycharm": {
     "name": "#%% md\n"
    }
   }
  },
  {
   "cell_type": "markdown",
   "source": [
    "# Наличие линейной зависимости\n",
    "Первая и самая естественная предпосылка заключается в линейности модели. Под этим условием подразумевается корректность модели, выбор адекватных предикторов и отсутствие лишних предикторов. А также линейную зависимость целевой переменной от независимых переменных."
   ],
   "metadata": {
    "id": "4SqH0aX-EFIS",
    "pycharm": {
     "name": "#%% md\n"
    }
   }
  },
  {
   "cell_type": "code",
   "source": [
    "sns.pairplot(df)"
   ],
   "metadata": {
    "id": "KTkSEBlbEKBj",
    "colab": {
     "base_uri": "https://localhost:8080/",
     "height": 743
    },
    "outputId": "b933eace-aa12-4f81-e7b9-14f7b8729510",
    "pycharm": {
     "name": "#%%\n"
    }
   },
   "execution_count": null,
   "outputs": [
    {
     "output_type": "execute_result",
     "data": {
      "text/plain": [
       "<seaborn.axisgrid.PairGrid at 0x7f11092d61d0>"
      ]
     },
     "metadata": {},
     "execution_count": 17
    },
    {
     "output_type": "display_data",
     "data": {
      "text/plain": [
       "<Figure size 720x720 with 20 Axes>"
      ],
      "image/png": "[encoded data removed]"
     },
     "metadata": {
      "needs_background": "light"
     }
    }
   ]
  },
  {
   "cell_type": "markdown",
   "source": [
    "# Отсутствие мультиколлинеарности\n",
    "\n",
    "Мультиколлинеарностью называют явление, которое заключается в наличии линейной зависимости между независимыми переменными (предикторами). Такое может возникать, например, при использовании признаков с естественной взаимосвязью: стаж работы и возраст (как правило, чем больше возраст - тем больше стаж и наоборот), количество детских садов и количество школ в районе (обычно детские сады бывают при школе, так что эти количества пропорционально взаимосвязаны) или баллы за экзамены IELTS и TOEFL (так как они экзамены проверяют примерно одни и те же знания и навыки)\n",
    "\n",
    "Последствием мультиколлинеарности является расширение доверительных интервалов для коэффициентов, и модель получается очень неустойчивой и меняющейся от добавления даже 1-2 новых наблюдений. Разумеется, это не очень хорошая для нас ситуация, поэтому мы должны отбирать для модели только те предикторы, между которыми нет линейной связи.\n",
    "\n",
    "Для того чтобы проверить данную предпосылку, нам необходимо построить матрицу корреляций для всех потенциальных предикторов, и отследить наличие сильной корреляционной связи. Нет четкой границы, которая отделяет допустимую взаимосвязь и недопустимую, но в ряде источников используется граница в районе 0.9. То есть, если между предикторами коэффициент корреляции по модулю больше, чем 0.9, то мы не можем оба этих предиктора использовать для модели.\n",
    "\n",
    "Почитать:\n",
    "\n",
    "[wiki](https://ru.wikipedia.org/wiki/%D0%9C%D1%83%D0%BB%D1%8C%D1%82%D0%B8%D0%BA%D0%BE%D0%BB%D0%BB%D0%B8%D0%BD%D0%B5%D0%B0%D1%80%D0%BD%D0%BE%D1%81%D1%82%D1%8C#:~:text=%D0%9C%D1%83%D0%BB%D1%8C%D1%82%D0%B8%D0%BA%D0%BE%D0%BB%D0%BB%D0%B8%D0%BD%D0%B5%D0%B0%D1%80%D0%BD%D0%BE%D1%81%D1%82%D1%8C%20(multicollinearity)%20%E2%80%94%20%D0%B2%20%D1%8D%D0%BA%D0%BE%D0%BD%D0%BE%D0%BC%D0%B5%D1%82%D1%80%D0%B8%D0%BA%D0%B5,%D0%BD%D0%B0%D0%BB%D0%B8%D1%87%D0%B8%D0%B5%20%D1%81%D0%B8%D0%BB%D1%8C%D0%BD%D0%BE%D0%B9%20%D0%BA%D0%BE%D1%80%D1%80%D0%B5%D0%BB%D1%8F%D1%86%D0%B8%D0%B8%20%D0%BC%D0%B5%D0%B6%D0%B4%D1%83%20%D1%84%D0%B0%D0%BA%D1%82%D0%BE%D1%80%D0%B0%D0%BC%D0%B8)\n",
    "\n",
    "[статья](https://towardsdatascience.com/why-multicollinearity-isnt-an-issue-in-machine-learning-5c9aa2f1a83a)\n"
   ],
   "metadata": {
    "id": "2eUVI1VIinnU",
    "pycharm": {
     "name": "#%% md\n"
    }
   }
  },
  {
   "cell_type": "code",
   "source": [
    "cols_num = ['Feature 1', 'Feature 2', 'Feature 3']\n",
    "\n",
    "correlation = df.corr().loc[cols_num, cols_num]\n",
    "correlation"
   ],
   "metadata": {
    "id": "iUzegBllDsBn",
    "colab": {
     "base_uri": "https://localhost:8080/",
     "height": 143
    },
    "outputId": "38d81de7-f182-4b44-c85b-8e166a84f23c",
    "pycharm": {
     "name": "#%%\n"
    }
   },
   "execution_count": null,
   "outputs": [
    {
     "output_type": "execute_result",
     "data": {
      "text/plain": [
       "           Feature 1  Feature 2  Feature 3\n",
       "Feature 1   1.000000   0.054809   0.056648\n",
       "Feature 2   0.054809   1.000000   0.354104\n",
       "Feature 3   0.056648   0.354104   1.000000"
      ],
      "text/html": [
       "\n",
       "  <div id=\"df-ff7cf7cc-f27c-47f3-b49e-f4e5dddcace4\">\n",
       "    <div class=\"colab-df-container\">\n",
       "      <div>\n",
       "<style scoped>\n",
       "    .dataframe tbody tr th:only-of-type {\n",
       "        vertical-align: middle;\n",
       "    }\n",
       "\n",
       "    .dataframe tbody tr th {\n",
       "        vertical-align: top;\n",
       "    }\n",
       "\n",
       "    .dataframe thead th {\n",
       "        text-align: right;\n",
       "    }\n",
       "</style>\n",
       "<table border=\"1\" class=\"dataframe\">\n",
       "  <thead>\n",
       "    <tr style=\"text-align: right;\">\n",
       "      <th></th>\n",
       "      <th>Feature 1</th>\n",
       "      <th>Feature 2</th>\n",
       "      <th>Feature 3</th>\n",
       "    </tr>\n",
       "  </thead>\n",
       "  <tbody>\n",
       "    <tr>\n",
       "      <th>Feature 1</th>\n",
       "      <td>1.000000</td>\n",
       "      <td>0.054809</td>\n",
       "      <td>0.056648</td>\n",
       "    </tr>\n",
       "    <tr>\n",
       "      <th>Feature 2</th>\n",
       "      <td>0.054809</td>\n",
       "      <td>1.000000</td>\n",
       "      <td>0.354104</td>\n",
       "    </tr>\n",
       "    <tr>\n",
       "      <th>Feature 3</th>\n",
       "      <td>0.056648</td>\n",
       "      <td>0.354104</td>\n",
       "      <td>1.000000</td>\n",
       "    </tr>\n",
       "  </tbody>\n",
       "</table>\n",
       "</div>\n",
       "      <button class=\"colab-df-convert\" onclick=\"convertToInteractive('df-ff7cf7cc-f27c-47f3-b49e-f4e5dddcace4')\"\n",
       "              title=\"Convert this dataframe to an interactive table.\"\n",
       "              style=\"display:none;\">\n",
       "        \n",
       "  <svg xmlns=\"http://www.w3.org/2000/svg\" height=\"24px\"viewBox=\"0 0 24 24\"\n",
       "       width=\"24px\">\n",
       "    <path d=\"M0 0h24v24H0V0z\" fill=\"none\"/>\n",
       "    <path d=\"M18.56 5.44l.94 2.06.94-2.06 2.06-.94-2.06-.94-.94-2.06-.94 2.06-2.06.94zm-11 1L8.5 8.5l.94-2.06 2.06-.94-2.06-.94L8.5 2.5l-.94 2.06-2.06.94zm10 10l.94 2.06.94-2.06 2.06-.94-2.06-.94-.94-2.06-.94 2.06-2.06.94z\"/><path d=\"M17.41 7.96l-1.37-1.37c-.4-.4-.92-.59-1.43-.59-.52 0-1.04.2-1.43.59L10.3 9.45l-7.72 7.72c-.78.78-.78 2.05 0 2.83L4 21.41c.39.39.9.59 1.41.59.51 0 1.02-.2 1.41-.59l7.78-7.78 2.81-2.81c.8-.78.8-2.07 0-2.86zM5.41 20L4 18.59l7.72-7.72 1.47 1.35L5.41 20z\"/>\n",
       "  </svg>\n",
       "      </button>\n",
       "      \n",
       "  <style>\n",
       "    .colab-df-container {\n",
       "      display:flex;\n",
       "      flex-wrap:wrap;\n",
       "      gap: 12px;\n",
       "    }\n",
       "\n",
       "    .colab-df-convert {\n",
       "      background-color: #E8F0FE;\n",
       "      border: none;\n",
       "      border-radius: 50%;\n",
       "      cursor: pointer;\n",
       "      display: none;\n",
       "      fill: #1967D2;\n",
       "      height: 32px;\n",
       "      padding: 0 0 0 0;\n",
       "      width: 32px;\n",
       "    }\n",
       "\n",
       "    .colab-df-convert:hover {\n",
       "      background-color: #E2EBFA;\n",
       "      box-shadow: 0px 1px 2px rgba(60, 64, 67, 0.3), 0px 1px 3px 1px rgba(60, 64, 67, 0.15);\n",
       "      fill: #174EA6;\n",
       "    }\n",
       "\n",
       "    [theme=dark] .colab-df-convert {\n",
       "      background-color: #3B4455;\n",
       "      fill: #D2E3FC;\n",
       "    }\n",
       "\n",
       "    [theme=dark] .colab-df-convert:hover {\n",
       "      background-color: #434B5C;\n",
       "      box-shadow: 0px 1px 3px 1px rgba(0, 0, 0, 0.15);\n",
       "      filter: drop-shadow(0px 1px 2px rgba(0, 0, 0, 0.3));\n",
       "      fill: #FFFFFF;\n",
       "    }\n",
       "  </style>\n",
       "\n",
       "      <script>\n",
       "        const buttonEl =\n",
       "          document.querySelector('#df-ff7cf7cc-f27c-47f3-b49e-f4e5dddcace4 button.colab-df-convert');\n",
       "        buttonEl.style.display =\n",
       "          google.colab.kernel.accessAllowed ? 'block' : 'none';\n",
       "\n",
       "        async function convertToInteractive(key) {\n",
       "          const element = document.querySelector('#df-ff7cf7cc-f27c-47f3-b49e-f4e5dddcace4');\n",
       "          const dataTable =\n",
       "            await google.colab.kernel.invokeFunction('convertToInteractive',\n",
       "                                                     [key], {});\n",
       "          if (!dataTable) return;\n",
       "\n",
       "          const docLinkHtml = 'Like what you see? Visit the ' +\n",
       "            '<a target=\"_blank\" href=https://colab.research.google.com/notebooks/data_table.ipynb>data table notebook</a>'\n",
       "            + ' to learn more about interactive tables.';\n",
       "          element.innerHTML = '';\n",
       "          dataTable['output_type'] = 'display_data';\n",
       "          await google.colab.output.renderOutput(dataTable, element);\n",
       "          const docLink = document.createElement('div');\n",
       "          docLink.innerHTML = docLinkHtml;\n",
       "          element.appendChild(docLink);\n",
       "        }\n",
       "      </script>\n",
       "    </div>\n",
       "  </div>\n",
       "  "
      ]
     },
     "metadata": {},
     "execution_count": 18
    }
   ]
  },
  {
   "cell_type": "code",
   "source": [
    "\n",
    "fig , ax = plt.subplots(figsize = (14,12))\n",
    "\n",
    "sns.heatmap(correlation, \n",
    "            linewidths=0.5, annot=True,cmap='viridis',\n",
    "            linecolor=\"white\", annot_kws = {'size':12})"
   ],
   "metadata": {
    "id": "kaYA6UAoD1wa",
    "colab": {
     "base_uri": "https://localhost:8080/",
     "height": 721
    },
    "outputId": "29ba78db-d36a-44cd-dc06-a9790ac47726",
    "pycharm": {
     "name": "#%%\n"
    }
   },
   "execution_count": null,
   "outputs": [
    {
     "output_type": "execute_result",
     "data": {
      "text/plain": [
       "<matplotlib.axes._subplots.AxesSubplot at 0x7f110633d490>"
      ]
     },
     "metadata": {},
     "execution_count": 19
    },
    {
     "output_type": "display_data",
     "data": {
      "text/plain": [
       "<Figure size 1008x864 with 2 Axes>"
      ],
      "image/png": "[encoded data removed]"
     },
     "metadata": {
      "needs_background": "light"
     }
    }
   ]
  },
  {
   "cell_type": "markdown",
   "source": [
    "Фактор инфляции дисперсии\n",
    "\n",
    "vif > 10 - выраженная мультиколлинеарность"
   ],
   "metadata": {
    "id": "4tNfOiiOG9rp",
    "pycharm": {
     "name": "#%% md\n"
    }
   }
  },
  {
   "cell_type": "code",
   "source": [
    "vif = [variance_inflation_factor(X_train.values, i) for i in range(X_train.shape[1])]\n",
    "pd.DataFrame({'vif': vif[0:]}, index=X_train.columns).T"
   ],
   "metadata": {
    "id": "WCcSlRCgP6FG",
    "colab": {
     "base_uri": "https://localhost:8080/",
     "height": 81
    },
    "outputId": "bda07328-d489-4f7b-b3ed-f44da854234d",
    "pycharm": {
     "name": "#%%\n"
    }
   },
   "execution_count": null,
   "outputs": [
    {
     "output_type": "execute_result",
     "data": {
      "text/plain": [
       "     Feature 1  Feature 2  Feature 3\n",
       "vif   2.697679   3.473818   3.162643"
      ],
      "text/html": [
       "\n",
       "  <div id=\"df-945068d2-0374-41cb-a019-493872f32522\">\n",
       "    <div class=\"colab-df-container\">\n",
       "      <div>\n",
       "<style scoped>\n",
       "    .dataframe tbody tr th:only-of-type {\n",
       "        vertical-align: middle;\n",
       "    }\n",
       "\n",
       "    .dataframe tbody tr th {\n",
       "        vertical-align: top;\n",
       "    }\n",
       "\n",
       "    .dataframe thead th {\n",
       "        text-align: right;\n",
       "    }\n",
       "</style>\n",
       "<table border=\"1\" class=\"dataframe\">\n",
       "  <thead>\n",
       "    <tr style=\"text-align: right;\">\n",
       "      <th></th>\n",
       "      <th>Feature 1</th>\n",
       "      <th>Feature 2</th>\n",
       "      <th>Feature 3</th>\n",
       "    </tr>\n",
       "  </thead>\n",
       "  <tbody>\n",
       "    <tr>\n",
       "      <th>vif</th>\n",
       "      <td>2.697679</td>\n",
       "      <td>3.473818</td>\n",
       "      <td>3.162643</td>\n",
       "    </tr>\n",
       "  </tbody>\n",
       "</table>\n",
       "</div>\n",
       "      <button class=\"colab-df-convert\" onclick=\"convertToInteractive('df-945068d2-0374-41cb-a019-493872f32522')\"\n",
       "              title=\"Convert this dataframe to an interactive table.\"\n",
       "              style=\"display:none;\">\n",
       "        \n",
       "  <svg xmlns=\"http://www.w3.org/2000/svg\" height=\"24px\"viewBox=\"0 0 24 24\"\n",
       "       width=\"24px\">\n",
       "    <path d=\"M0 0h24v24H0V0z\" fill=\"none\"/>\n",
       "    <path d=\"M18.56 5.44l.94 2.06.94-2.06 2.06-.94-2.06-.94-.94-2.06-.94 2.06-2.06.94zm-11 1L8.5 8.5l.94-2.06 2.06-.94-2.06-.94L8.5 2.5l-.94 2.06-2.06.94zm10 10l.94 2.06.94-2.06 2.06-.94-2.06-.94-.94-2.06-.94 2.06-2.06.94z\"/><path d=\"M17.41 7.96l-1.37-1.37c-.4-.4-.92-.59-1.43-.59-.52 0-1.04.2-1.43.59L10.3 9.45l-7.72 7.72c-.78.78-.78 2.05 0 2.83L4 21.41c.39.39.9.59 1.41.59.51 0 1.02-.2 1.41-.59l7.78-7.78 2.81-2.81c.8-.78.8-2.07 0-2.86zM5.41 20L4 18.59l7.72-7.72 1.47 1.35L5.41 20z\"/>\n",
       "  </svg>\n",
       "      </button>\n",
       "      \n",
       "  <style>\n",
       "    .colab-df-container {\n",
       "      display:flex;\n",
       "      flex-wrap:wrap;\n",
       "      gap: 12px;\n",
       "    }\n",
       "\n",
       "    .colab-df-convert {\n",
       "      background-color: #E8F0FE;\n",
       "      border: none;\n",
       "      border-radius: 50%;\n",
       "      cursor: pointer;\n",
       "      display: none;\n",
       "      fill: #1967D2;\n",
       "      height: 32px;\n",
       "      padding: 0 0 0 0;\n",
       "      width: 32px;\n",
       "    }\n",
       "\n",
       "    .colab-df-convert:hover {\n",
       "      background-color: #E2EBFA;\n",
       "      box-shadow: 0px 1px 2px rgba(60, 64, 67, 0.3), 0px 1px 3px 1px rgba(60, 64, 67, 0.15);\n",
       "      fill: #174EA6;\n",
       "    }\n",
       "\n",
       "    [theme=dark] .colab-df-convert {\n",
       "      background-color: #3B4455;\n",
       "      fill: #D2E3FC;\n",
       "    }\n",
       "\n",
       "    [theme=dark] .colab-df-convert:hover {\n",
       "      background-color: #434B5C;\n",
       "      box-shadow: 0px 1px 3px 1px rgba(0, 0, 0, 0.15);\n",
       "      filter: drop-shadow(0px 1px 2px rgba(0, 0, 0, 0.3));\n",
       "      fill: #FFFFFF;\n",
       "    }\n",
       "  </style>\n",
       "\n",
       "      <script>\n",
       "        const buttonEl =\n",
       "          document.querySelector('#df-945068d2-0374-41cb-a019-493872f32522 button.colab-df-convert');\n",
       "        buttonEl.style.display =\n",
       "          google.colab.kernel.accessAllowed ? 'block' : 'none';\n",
       "\n",
       "        async function convertToInteractive(key) {\n",
       "          const element = document.querySelector('#df-945068d2-0374-41cb-a019-493872f32522');\n",
       "          const dataTable =\n",
       "            await google.colab.kernel.invokeFunction('convertToInteractive',\n",
       "                                                     [key], {});\n",
       "          if (!dataTable) return;\n",
       "\n",
       "          const docLinkHtml = 'Like what you see? Visit the ' +\n",
       "            '<a target=\"_blank\" href=https://colab.research.google.com/notebooks/data_table.ipynb>data table notebook</a>'\n",
       "            + ' to learn more about interactive tables.';\n",
       "          element.innerHTML = '';\n",
       "          dataTable['output_type'] = 'display_data';\n",
       "          await google.colab.output.renderOutput(dataTable, element);\n",
       "          const docLink = document.createElement('div');\n",
       "          docLink.innerHTML = docLinkHtml;\n",
       "          element.appendChild(docLink);\n",
       "        }\n",
       "      </script>\n",
       "    </div>\n",
       "  </div>\n",
       "  "
      ]
     },
     "metadata": {},
     "execution_count": 20
    }
   ]
  },
  {
   "cell_type": "markdown",
   "source": [
    "# Нормальное распределение ошибок\n",
    "После того как мы построили модель регрессии, мы можем вычислить ошибки (остатки): разницы между реальным значением $y$ и предсказанным $\\hat{y}$. Важным условием является нормальность распределения этих ошибок. То есть, распределение остатков должно стремиться к нормальному распределению. Проверить выполняемость этого условия можно визуально с помощью гистограммы или с помощью специальных статистических тестов.\n",
    "\n",
    "В целом, такое условие связано не напрямую с остатками, а с тем, что зависимая переменная должна быть распределена нормально для любых значений х. Однако такое условие проверить довольно сложно, поэтому можно проверить такое условие с помощью анализа распределения остатков."
   ],
   "metadata": {
    "id": "Lv9TKOyzjIGo",
    "pycharm": {
     "name": "#%% md\n"
    }
   }
  },
  {
   "cell_type": "code",
   "source": [
    "sns.histplot(residual, kde=True, stat=\"density\", linewidth=0)"
   ],
   "metadata": {
    "id": "RdtFAOSEi0Kd",
    "pycharm": {
     "name": "#%%\n"
    }
   },
   "execution_count": null,
   "outputs": []
  },
  {
   "cell_type": "code",
   "source": [
    "fig, ax = plt.subplots(figsize=(6,2.5))\n",
    "_, (__, ___, r) = sp.stats.probplot(residual, plot=ax, fit=True)"
   ],
   "metadata": {
    "id": "MvXQ6SQXj3_k",
    "pycharm": {
     "name": "#%%\n"
    }
   },
   "execution_count": null,
   "outputs": []
  },
  {
   "cell_type": "code",
   "source": [
    "np.mean(residual)"
   ],
   "metadata": {
    "id": "TSeQ7yiEj6hI",
    "pycharm": {
     "name": "#%%\n"
    }
   },
   "execution_count": null,
   "outputs": []
  },
  {
   "cell_type": "markdown",
   "source": [
    "# Гомоскедастичность \n",
    "Гомоскедастичность ошибок заключается в том, что разброс остатков при любых значениях независимых переменных одинаковый. \n",
    "\n",
    "Если предположение о гомоскедастичности нарушается, т.е. имеет место гетероскедастичность, это может затруднить интерпретацию результатов регрессии, поскольку в этом случае значение выходной переменной зависит не только от величины изменения входной, но и от того, относительно какой величины это изменение происходит.\n",
    "\n",
    "Например, если использовать при построении регрессионной модели данные о доходе клиентов, то попытка применить одну модель для богатых и бедных может вызвать проблемы. Действительно, если изменение суммы дохода на 1 000 руб. окажется значимым для клиента с доходом 10 000 руб., то для клиента с доходом 1 000 000 руб. это не так. А регрессионная модель, тем не менее, применяет к ним одну и ту же закономерность. Чтобы этого не произошло, клиентов с низкими и высокими доходами следует разбить на две выборки и таким образом обеспечить гомоскедастичность.\n",
    "\n",
    "[wiki](https://ru.wikipedia.org/wiki/%D0%93%D0%BE%D0%BC%D0%BE%D1%81%D0%BA%D0%B5%D0%B4%D0%B0%D1%81%D1%82%D0%B8%D1%87%D0%BD%D0%BE%D1%81%D1%82%D1%8C)"
   ],
   "metadata": {
    "id": "2z7c7fmZj-HK",
    "pycharm": {
     "name": "#%% md\n"
    }
   }
  },
  {
   "cell_type": "code",
   "source": [
    "fig, ax = plt.subplots(figsize=(6,2.5))\n",
    "_ = ax.scatter(y_pred, residual)"
   ],
   "metadata": {
    "id": "Ef7jHuknj-4r",
    "pycharm": {
     "name": "#%%\n"
    }
   },
   "execution_count": null,
   "outputs": []
  },
  {
   "cell_type": "markdown",
   "source": [
    "# Отсутствие автокорреляции остатков\n",
    "Автокорреляция остатков (ошибок) возникает в ситуации, когда есть линейная взаимосвязь между остатками для одних значений предикторов и остатками для других значений предикторов. Такое может проявляться в силу естественных причин, как и в случае сс мультиколлинеарностью. Например, если мы предсказываем какие-то показатели для соседних регионов страны, то, скорее всего, они будут сильно взаимосвязаны просто в силу схожести характеристик этих объектов.\n",
    "\n",
    "Автокорреляция влечет за собой некорректные результаты. Стандартные ошибки получаются несостоятельными, и мы не можем строить корректные доверительные интервалы и проверять гипотезы классическими способами.\n",
    "\n",
    "[wiki](https://ru.wikipedia.org/wiki/%D0%90%D0%B2%D1%82%D0%BE%D0%BA%D0%BE%D1%80%D1%80%D0%B5%D0%BB%D1%8F%D1%86%D0%B8%D0%BE%D0%BD%D0%BD%D0%B0%D1%8F_%D1%84%D1%83%D0%BD%D0%BA%D1%86%D0%B8%D1%8F)"
   ],
   "metadata": {
    "id": "XWs7ghcBkfgD",
    "pycharm": {
     "name": "#%% md\n"
    }
   }
  },
  {
   "cell_type": "code",
   "source": [
    "acf = smt.graphics.plot_acf(residual, lags=40 , alpha=0.05)\n",
    "acf.show()"
   ],
   "metadata": {
    "id": "XZevRlLLkews",
    "pycharm": {
     "name": "#%%\n"
    }
   },
   "execution_count": null,
   "outputs": []
  },
  {
   "cell_type": "markdown",
   "source": [
    "\n",
    "## Матрицами ([статья](https://habr.com/en/post/479398/))\n",
    "\n",
    "## $\\beta^* = (X^T \\cdot X)^{-1}\\cdot X^T \\cdot Y$\n",
    "\n"
   ],
   "metadata": {
    "id": "N_eu2jr_0ZNH",
    "pycharm": {
     "name": "#%% md\n"
    }
   }
  },
  {
   "cell_type": "code",
   "source": [
    "# тут будет код"
   ],
   "metadata": {
    "id": "4Y5F-MCi0fNI",
    "pycharm": {
     "name": "#%%\n"
    }
   },
   "execution_count": null,
   "outputs": []
  },
  {
   "cell_type": "markdown",
   "source": [
    "## Градиентным спуском  ([статья](https://habr.com/en/post/474602/))\n",
    "\n",
    "Инициализируем случайную точку (часто берут просто нули):\n",
    "\n",
    "$$\n",
    "\\beta_0 = (0\\;\\; 0 ...)\n",
    "$$\n",
    "\n",
    "Итеративно скачем по линиям уровня нашей функции, шагая каждый раз в сторону антиградиента с корректировкой шага $\\eta_k$:\n",
    "\n",
    "$$\n",
    "\\beta_{k+1} = \\beta_k - \\eta_{k}\\cdot\\nabla Q(\\beta_k, X)\n",
    "$$\n",
    " \n",
    "Останавливаемся, когда срабатывает критерий останова. Например:\n",
    "\n",
    "$$\n",
    "|\\beta_{k+1} - \\beta_k| < \\xi\n",
    "$$\n",
    "\n",
    "Пусть имеем 3 объекта $(X, Y)^i$ = $\\left((d_i, 1), Y_i \\right)$ с 3 признаками $d_1$, $d_2$ (+ константа). Хотим оценить обычную линейную модель:\n",
    "\n",
    "$$\n",
    "a(x) = \\beta_1 \\cdot d_1 + \\beta_2 \\cdot d_2 + \\beta_0\n",
    "$$\n",
    "\n",
    "Тогда функционал ошибки как среднеквадратическая ошибка на нашей выборке выглядит следующим образом:\n",
    "\n",
    "$$\n",
    "Q(a, X) = \\frac{1}{N}\\cdot\\sum_{i=1}^N (\\beta_1 \\cdot d_{i1} + \\beta_2 \\cdot d_{i2} + \\beta_0 - y_i)^2\n",
    "$$\n",
    "\n",
    "Посчитаем вектор-градиент по всем оцениваемым параметрам:\n",
    "\n",
    "$$\n",
    "\\nabla Q(a, X) = (Q'_{\\beta_1} \\;\\;\\; Q'_{\\beta_2} \\;\\;\\; Q'_{\\beta_0})\n",
    "$$\n",
    "\n",
    "Пример расчета производной по параметру у признака номер 1:\n",
    "\n",
    "$$\n",
    "Q'_{\\beta_1} = \\frac{2}{N} \\cdot \\sum_{i=1}^N d_{i1} \\cdot (\\beta_1 \\cdot d_{i1} + \\beta_2 \\cdot d_{i2} + \\beta_0 - y_i)\n",
    "$$"
   ],
   "metadata": {
    "id": "ucYDZTHx0cPC",
    "pycharm": {
     "name": "#%% md\n"
    }
   }
  },
  {
   "cell_type": "code",
   "source": [
    "# тут будет код"
   ],
   "metadata": {
    "id": "O8dfFwPUYKb5",
    "pycharm": {
     "name": "#%%\n"
    }
   },
   "execution_count": null,
   "outputs": []
  },
  {
   "cell_type": "markdown",
   "source": [
    "# Тут будет описание"
   ],
   "metadata": {
    "id": "o63p_NduPK4Z",
    "pycharm": {
     "name": "#%% md\n"
    }
   }
  },
  {
   "cell_type": "markdown",
   "source": [
    "# По материалам\n",
    "1. https://github.com/bhattbhavesh91/linear-regression-assumptions\n",
    "2. https://towardsdatascience.com/assumptions-of-linear-regression-fdb71ebeaa8b\n",
    "3. https://habr.com/en/post/690414/\n",
    "4. Еще каких-то хороших людей"
   ],
   "metadata": {
    "id": "X1IhiyYgPKpu",
    "pycharm": {
     "name": "#%% md\n"
    }
   }
  }
 ]
}
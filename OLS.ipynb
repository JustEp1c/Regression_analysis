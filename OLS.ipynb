{
 "nbformat": 4,
 "nbformat_minor": 0,
 "metadata": {
  "colab": {
   "provenance": [],
   "collapsed_sections": []
  },
  "kernelspec": {
   "name": "python3",
   "display_name": "Python 3"
  },
  "language_info": {
   "name": "python"
  }
 },
 "cells": [
  {
   "cell_type": "markdown",
   "source": [
    "# Задание\n",
    "1. Изучить пример, приведенный ниже.\n",
    "2. Получить свой датасет у преподавателя.\n",
    "3. Выбрать числовые признаки и таргет в датасете (признаки делаем числовыми или исключаем их).\n",
    "2. Проанализировать результаты, полученные с помощью statsmodels.\n",
    "3. Построить регрессионную зависимость (sklearn [тык](https://scikit-learn.ru/user_guide/)) с помощью метода наименьших квадратов, используя вычисление обратной матрицы. \n",
    "4. Построить регрессионную зависимость (sklearn) с помощью метода наименьших квадратов, используя метод градиентного спуска. \n",
    "4. Сравнить и описать результаты."
   ],
   "metadata": {
    "id": "JBl74arSKMbs",
    "pycharm": {
     "name": "#%% md\n"
    }
   }
  },
  {
   "cell_type": "markdown",
   "source": [
    "# Регрессионный анализ\n",
    "[Wiki](https://ru.wikipedia.org/wiki/%D0%A0%D0%B5%D0%B3%D1%80%D0%B5%D1%81%D1%81%D0%B8%D0%BE%D0%BD%D0%BD%D1%8B%D0%B9_%D0%B0%D0%BD%D0%B0%D0%BB%D0%B8%D0%B7)\n"
   ],
   "metadata": {
    "id": "LHhuJip5l-oY",
    "pycharm": {
     "name": "#%% md\n"
    }
   }
  },
  {
   "cell_type": "code",
   "execution_count": 11,
   "metadata": {
    "id": "nmfCXTlqhg-P",
    "pycharm": {
     "name": "#%%\n"
    }
   },
   "outputs": [],
   "source": [
    "import matplotlib.pyplot as plt\n",
    "import numpy as np\n",
    "import pandas as pd\n",
    "import scipy as sp\n",
    "import seaborn as sns\n",
    "import statsmodels.api as sm\n",
    "import statsmodels.tsa.api as smt\n",
    "import glob\n",
    "import warnings\n",
    "from sklearn.linear_model import LinearRegression\n",
    "from sklearn.model_selection import train_test_split\n",
    "from statsmodels.stats.outliers_influence import variance_inflation_factor\n",
    "\n",
    "warnings.filterwarnings(\"ignore\")\n",
    "%matplotlib inline"
   ]
  },
  {
   "cell_type": "markdown",
   "source": [
    "Немного о pandas\n",
    "\n",
    "[Документация](https://pandas.pydata.org/docs/user_guide/index.html#user-guide) \n",
    "\n",
    "[Шпаргалка](https://smysl.io/blog/pandas/) \n",
    "\n",
    "[Еще немного](https://blog.skillfactory.ru/kak-nachat-analizirovat-dannye-v-pandas-pervye-shagi/)\n",
    "\n",
    "[Работа с датой](https://habr.com/ru/company/wunderfund/blog/677068/)"
   ],
   "metadata": {
    "id": "zbawK26MN_9-",
    "pycharm": {
     "name": "#%% md\n"
    }
   }
  },
  {
   "cell_type": "code",
   "source": [
    "files = glob.glob(\"datasets/*.csv\")\n",
    "combined = pd.DataFrame()\n",
    "\n",
    "for file in files:\n",
    "    data = pd.read_csv(file)\n",
    "    combined = pd.concat([combined, data])\n",
    "\n",
    "combined.to_csv('combined_datasets.csv', index=False, sep=',')"
   ],
   "metadata": {
    "id": "_905-6gShtGg",
    "colab": {
     "base_uri": "https://localhost:8080/",
     "height": 311
    },
    "outputId": "6da79082-eb3c-464a-a438-412bf1836cd5",
    "pycharm": {
     "name": "#%%\n"
    }
   },
   "execution_count": 79,
   "outputs": []
  },
  {
   "cell_type": "code",
   "source": [
    "df = pd.read_csv('combined_datasets.csv')\n",
    "\n",
    "df['Date'] = pd.to_datetime(df['Date'])\n",
    "df['Date'] = df['Date'].astype(np.int64)\n",
    "\n",
    "df.drop('Name', axis=1, inplace=True)\n",
    "df.dropna(how='any', axis=1, inplace=True)\n",
    "print (\"Total number of rows in dataset = {}\".format(df.shape[0]))\n",
    "print (\"Total number of columns in dataset = {}\".format(df.shape[1]))"
   ],
   "metadata": {
    "colab": {
     "base_uri": "https://localhost:8080/"
    },
    "id": "jZJhk6ZhhxCU",
    "outputId": "15a4917a-23e1-4103-d64f-f1e76b223c9e",
    "pycharm": {
     "name": "#%%\n"
    }
   },
   "execution_count": 151,
   "outputs": [
    {
     "name": "stdout",
     "output_type": "stream",
     "text": [
      "Total number of rows in dataset = 9920\n",
      "Total number of columns in dataset = 38\n"
     ]
    }
   ]
  },
  {
   "cell_type": "code",
   "source": [
    "df.head()"
   ],
   "metadata": {
    "colab": {
     "base_uri": "https://localhost:8080/",
     "height": 206
    },
    "id": "27CSi-tHh1Hw",
    "outputId": "6df73e9c-66a0-4e67-a0b1-592a227e3b94",
    "pycharm": {
     "name": "#%%\n"
    }
   },
   "execution_count": 152,
   "outputs": [
    {
     "data": {
      "text/plain": "                  Date         Close  DTB4WK  DTB3  DTB6  DGS5  DGS10  DAAA  \\\n0  1262217600000000000  10428.049805    0.04  0.06  0.20  2.69   3.85  5.33   \n1  1262563200000000000  10583.959961    0.05  0.08  0.18  2.65   3.85  5.35   \n2  1262649600000000000  10572.019531    0.03  0.07  0.17  2.56   3.77  5.24   \n3  1262736000000000000  10573.679688    0.03  0.06  0.15  2.60   3.85  5.30   \n4  1262822400000000000  10606.860352    0.02  0.05  0.16  2.62   3.85  5.31   \n\n   DBAA   TE1  ...  Nikkei-F   NZD  silver-F  RUSSELL-F  S&P-F   CHF  \\\n0  6.39  3.81  ...      0.67  0.03      0.26      -1.08  -1.00 -0.11   \n1  6.39  3.80  ...      0.31  1.52      3.26       1.61   1.62 -0.57   \n2  6.30  3.74  ...      0.47 -0.07      1.96      -0.20   0.31  0.43   \n3  6.34  3.82  ...      0.19  0.56      2.15      -0.02   0.07 -0.56   \n4  6.33  3.83  ...     -0.09 -0.72      0.94       0.50   0.40  0.58   \n\n   Dollar index-F  Dollar index   XAG   XAU  \n0           -0.08         -0.06  0.30  0.39  \n1           -0.59         -0.42  3.91  2.10  \n2            0.03          0.12  1.42 -0.12  \n3           -0.24         -0.17  2.25  1.77  \n4            0.58          0.54  0.22 -0.58  \n\n[5 rows x 38 columns]",
      "text/html": "<div>\n<style scoped>\n    .dataframe tbody tr th:only-of-type {\n        vertical-align: middle;\n    }\n\n    .dataframe tbody tr th {\n        vertical-align: top;\n    }\n\n    .dataframe thead th {\n        text-align: right;\n    }\n</style>\n<table border=\"1\" class=\"dataframe\">\n  <thead>\n    <tr style=\"text-align: right;\">\n      <th></th>\n      <th>Date</th>\n      <th>Close</th>\n      <th>DTB4WK</th>\n      <th>DTB3</th>\n      <th>DTB6</th>\n      <th>DGS5</th>\n      <th>DGS10</th>\n      <th>DAAA</th>\n      <th>DBAA</th>\n      <th>TE1</th>\n      <th>...</th>\n      <th>Nikkei-F</th>\n      <th>NZD</th>\n      <th>silver-F</th>\n      <th>RUSSELL-F</th>\n      <th>S&amp;P-F</th>\n      <th>CHF</th>\n      <th>Dollar index-F</th>\n      <th>Dollar index</th>\n      <th>XAG</th>\n      <th>XAU</th>\n    </tr>\n  </thead>\n  <tbody>\n    <tr>\n      <th>0</th>\n      <td>1262217600000000000</td>\n      <td>10428.049805</td>\n      <td>0.04</td>\n      <td>0.06</td>\n      <td>0.20</td>\n      <td>2.69</td>\n      <td>3.85</td>\n      <td>5.33</td>\n      <td>6.39</td>\n      <td>3.81</td>\n      <td>...</td>\n      <td>0.67</td>\n      <td>0.03</td>\n      <td>0.26</td>\n      <td>-1.08</td>\n      <td>-1.00</td>\n      <td>-0.11</td>\n      <td>-0.08</td>\n      <td>-0.06</td>\n      <td>0.30</td>\n      <td>0.39</td>\n    </tr>\n    <tr>\n      <th>1</th>\n      <td>1262563200000000000</td>\n      <td>10583.959961</td>\n      <td>0.05</td>\n      <td>0.08</td>\n      <td>0.18</td>\n      <td>2.65</td>\n      <td>3.85</td>\n      <td>5.35</td>\n      <td>6.39</td>\n      <td>3.80</td>\n      <td>...</td>\n      <td>0.31</td>\n      <td>1.52</td>\n      <td>3.26</td>\n      <td>1.61</td>\n      <td>1.62</td>\n      <td>-0.57</td>\n      <td>-0.59</td>\n      <td>-0.42</td>\n      <td>3.91</td>\n      <td>2.10</td>\n    </tr>\n    <tr>\n      <th>2</th>\n      <td>1262649600000000000</td>\n      <td>10572.019531</td>\n      <td>0.03</td>\n      <td>0.07</td>\n      <td>0.17</td>\n      <td>2.56</td>\n      <td>3.77</td>\n      <td>5.24</td>\n      <td>6.30</td>\n      <td>3.74</td>\n      <td>...</td>\n      <td>0.47</td>\n      <td>-0.07</td>\n      <td>1.96</td>\n      <td>-0.20</td>\n      <td>0.31</td>\n      <td>0.43</td>\n      <td>0.03</td>\n      <td>0.12</td>\n      <td>1.42</td>\n      <td>-0.12</td>\n    </tr>\n    <tr>\n      <th>3</th>\n      <td>1262736000000000000</td>\n      <td>10573.679688</td>\n      <td>0.03</td>\n      <td>0.06</td>\n      <td>0.15</td>\n      <td>2.60</td>\n      <td>3.85</td>\n      <td>5.30</td>\n      <td>6.34</td>\n      <td>3.82</td>\n      <td>...</td>\n      <td>0.19</td>\n      <td>0.56</td>\n      <td>2.15</td>\n      <td>-0.02</td>\n      <td>0.07</td>\n      <td>-0.56</td>\n      <td>-0.24</td>\n      <td>-0.17</td>\n      <td>2.25</td>\n      <td>1.77</td>\n    </tr>\n    <tr>\n      <th>4</th>\n      <td>1262822400000000000</td>\n      <td>10606.860352</td>\n      <td>0.02</td>\n      <td>0.05</td>\n      <td>0.16</td>\n      <td>2.62</td>\n      <td>3.85</td>\n      <td>5.31</td>\n      <td>6.33</td>\n      <td>3.83</td>\n      <td>...</td>\n      <td>-0.09</td>\n      <td>-0.72</td>\n      <td>0.94</td>\n      <td>0.50</td>\n      <td>0.40</td>\n      <td>0.58</td>\n      <td>0.58</td>\n      <td>0.54</td>\n      <td>0.22</td>\n      <td>-0.58</td>\n    </tr>\n  </tbody>\n</table>\n<p>5 rows × 38 columns</p>\n</div>"
     },
     "execution_count": 152,
     "metadata": {},
     "output_type": "execute_result"
    }
   ]
  },
  {
   "cell_type": "code",
   "source": [
    "df.info()"
   ],
   "metadata": {
    "colab": {
     "base_uri": "https://localhost:8080/"
    },
    "id": "Jqn4fUPrLcxF",
    "outputId": "610e356d-26d7-4ede-819f-968b5b4ecf8e",
    "pycharm": {
     "name": "#%%\n"
    }
   },
   "execution_count": 153,
   "outputs": [
    {
     "name": "stdout",
     "output_type": "stream",
     "text": [
      "<class 'pandas.core.frame.DataFrame'>\n",
      "RangeIndex: 9920 entries, 0 to 9919\n",
      "Data columns (total 38 columns):\n",
      " #   Column          Non-Null Count  Dtype  \n",
      "---  ------          --------------  -----  \n",
      " 0   Date            9920 non-null   int64  \n",
      " 1   Close           9920 non-null   float64\n",
      " 2   DTB4WK          9920 non-null   float64\n",
      " 3   DTB3            9920 non-null   float64\n",
      " 4   DTB6            9920 non-null   float64\n",
      " 5   DGS5            9920 non-null   float64\n",
      " 6   DGS10           9920 non-null   float64\n",
      " 7   DAAA            9920 non-null   float64\n",
      " 8   DBAA            9920 non-null   float64\n",
      " 9   TE1             9920 non-null   float64\n",
      " 10  TE2             9920 non-null   float64\n",
      " 11  TE3             9920 non-null   float64\n",
      " 12  TE5             9920 non-null   float64\n",
      " 13  TE6             9920 non-null   float64\n",
      " 14  DE1             9920 non-null   float64\n",
      " 15  DE2             9920 non-null   float64\n",
      " 16  DE4             9920 non-null   float64\n",
      " 17  DE5             9920 non-null   float64\n",
      " 18  DE6             9920 non-null   float64\n",
      " 19  AUD             9920 non-null   float64\n",
      " 20  Brent           9920 non-null   float64\n",
      " 21  copper-F        9920 non-null   float64\n",
      " 22  WIT-oil         9920 non-null   float64\n",
      " 23  DJI-F           9920 non-null   float64\n",
      " 24  EUR             9920 non-null   float64\n",
      " 25  gold-F          9920 non-null   float64\n",
      " 26  NASDAQ-F        9920 non-null   float64\n",
      " 27  GAS-F           9920 non-null   float64\n",
      " 28  Nikkei-F        9920 non-null   float64\n",
      " 29  NZD             9920 non-null   float64\n",
      " 30  silver-F        9920 non-null   float64\n",
      " 31  RUSSELL-F       9920 non-null   float64\n",
      " 32  S&P-F           9920 non-null   float64\n",
      " 33  CHF             9920 non-null   float64\n",
      " 34  Dollar index-F  9920 non-null   float64\n",
      " 35  Dollar index    9920 non-null   float64\n",
      " 36  XAG             9920 non-null   float64\n",
      " 37  XAU             9920 non-null   float64\n",
      "dtypes: float64(37), int64(1)\n",
      "memory usage: 2.9 MB\n"
     ]
    }
   ]
  },
  {
   "cell_type": "markdown",
   "source": [
    "По df.info() видим, что пустых значений нет. RangeIndex: 9920 и Non-Null Count у всех признаков = 9920.\n"
   ],
   "metadata": {
    "id": "xX3J8T-lLjnw",
    "pycharm": {
     "name": "#%% md\n"
    }
   }
  },
  {
   "cell_type": "code",
   "source": [
    "target_col = \"XAU\""
   ],
   "metadata": {
    "id": "_FGytpZy-zdy",
    "pycharm": {
     "name": "#%%\n"
    }
   },
   "execution_count": 154,
   "outputs": []
  },
  {
   "cell_type": "code",
   "source": [
    "X = df.loc[:, df.columns != target_col]\n",
    "y = df.loc[:, target_col]"
   ],
   "metadata": {
    "id": "z9-MCfqnh5e_",
    "pycharm": {
     "name": "#%%\n"
    }
   },
   "execution_count": 155,
   "outputs": []
  },
  {
   "cell_type": "code",
   "source": [
    "# Split the data into train and test with 70% data being used for training\n",
    "X_train, X_test, y_train, y_test = train_test_split(X, y, \n",
    "                                                    test_size=0.30, \n",
    "                                                    random_state=42)"
   ],
   "metadata": {
    "id": "Q_Oh-mhYh95E",
    "pycharm": {
     "name": "#%%\n"
    }
   },
   "execution_count": 156,
   "outputs": []
  },
  {
   "cell_type": "markdown",
   "source": [
    "\n",
    "# Линейная регрессия (statsmodels)\n",
    "\n"
   ],
   "metadata": {
    "id": "SD9TnDGkiA_w",
    "pycharm": {
     "name": "#%% md\n"
    }
   }
  },
  {
   "cell_type": "code",
   "source": [
    "X_with_constant = sm.add_constant(X_train)\n",
    "model = sm.OLS(y_train, X_with_constant)"
   ],
   "metadata": {
    "id": "bZ33S9QhiS00",
    "pycharm": {
     "name": "#%%\n"
    }
   },
   "execution_count": 157,
   "outputs": []
  },
  {
   "cell_type": "code",
   "source": [
    "results = model.fit()\n",
    "results.params"
   ],
   "metadata": {
    "id": "IvrWdZYoiVUb",
    "colab": {
     "base_uri": "https://localhost:8080/"
    },
    "outputId": "6f16b02b-4095-4acd-bf2d-0ea1f5071c39",
    "pycharm": {
     "name": "#%%\n"
    }
   },
   "execution_count": 158,
   "outputs": [
    {
     "data": {
      "text/plain": "const            -4.869776e-12\nDate              1.138499e-20\nClose             2.146616e-08\nDTB4WK            2.930494e-12\nDTB3              3.318974e-12\nDTB6              3.852218e-12\nDGS5             -1.051830e-12\nDGS10            -8.501750e-12\nDAAA             -1.193896e-11\nDBAA             -1.481600e-11\nTE1              -1.143224e-11\nTE2              -1.182072e-11\nTE3              -1.235397e-11\nTE5               3.884803e-13\nTE6               9.217243e-13\nDE1              -2.877045e-12\nDE2              -6.314254e-12\nDE4              -1.866822e-11\nDE5              -1.813498e-11\nDE6              -1.774650e-11\nAUD              -3.821397e-13\nBrent             6.505013e-14\ncopper-F         -4.311949e-13\nWIT-oil          -8.421178e-14\nDJI-F            -9.729073e-14\nEUR               6.550938e-14\ngold-F           -4.380156e-13\nNASDAQ-F         -7.625235e-14\nGAS-F             5.627934e-13\nNikkei-F          2.881873e-13\nNZD              -4.593200e-13\nsilver-F         -4.961851e-13\nRUSSELL-F        -3.234732e-13\nS&P-F            -1.747909e-13\nCHF               2.928271e-13\nDollar index-F    3.799788e-14\nDollar index      3.562819e-14\nXAG              -9.897145e-13\ndtype: float64"
     },
     "execution_count": 158,
     "metadata": {},
     "output_type": "execute_result"
    }
   ]
  },
  {
   "cell_type": "code",
   "source": [
    "print(results.summary())"
   ],
   "metadata": {
    "id": "HGlQxUj0iZfI",
    "colab": {
     "base_uri": "https://localhost:8080/"
    },
    "outputId": "fc178ba2-5c53-4ca3-95c0-e9881db8fbd9",
    "pycharm": {
     "name": "#%%\n"
    }
   },
   "execution_count": 159,
   "outputs": [
    {
     "name": "stdout",
     "output_type": "stream",
     "text": [
      "                            OLS Regression Results                            \n",
      "==============================================================================\n",
      "Dep. Variable:                    XAU   R-squared:                      -0.000\n",
      "Model:                            OLS   Adj. R-squared:                 -0.000\n",
      "Method:                 Least Squares   F-statistic:                       nan\n",
      "Date:                Thu, 27 Oct 2022   Prob (F-statistic):                nan\n",
      "Time:                        21:04:03   Log-Likelihood:                -9957.9\n",
      "No. Observations:                6944   AIC:                         1.992e+04\n",
      "Df Residuals:                    6943   BIC:                         1.992e+04\n",
      "Df Model:                           0                                         \n",
      "Covariance Type:            nonrobust                                         \n",
      "==================================================================================\n",
      "                     coef    std err          t      P>|t|      [0.025      0.975]\n",
      "----------------------------------------------------------------------------------\n",
      "const           -4.87e-12   4.89e-10     -0.010      0.992   -9.63e-10    9.53e-10\n",
      "Date            1.138e-20   1.32e-20      0.862      0.389   -1.45e-20    3.73e-20\n",
      "Close           2.147e-08   2.15e-06      0.010      0.992    -4.2e-06    4.25e-06\n",
      "DTB4WK           2.93e-12   2.94e-10      0.010      0.992   -5.74e-10     5.8e-10\n",
      "DTB3            3.319e-12   3.33e-10      0.010      0.992    -6.5e-10    6.56e-10\n",
      "DTB6            3.852e-12   3.87e-10      0.010      0.992   -7.54e-10    7.62e-10\n",
      "DGS5           -1.052e-12   1.06e-10     -0.010      0.992   -2.08e-10    2.06e-10\n",
      "DGS10          -8.502e-12   8.53e-10     -0.010      0.992   -1.68e-09    1.66e-09\n",
      "DAAA           -1.194e-11    1.2e-09     -0.010      0.992   -2.36e-09    2.34e-09\n",
      "DBAA           -1.482e-11   1.49e-09     -0.010      0.992   -2.93e-09     2.9e-09\n",
      "TE1            -1.143e-11   1.15e-09     -0.010      0.992   -2.26e-09    2.24e-09\n",
      "TE2            -1.182e-11   1.19e-09     -0.010      0.992   -2.34e-09    2.31e-09\n",
      "TE3            -1.235e-11   1.24e-09     -0.010      0.992   -2.44e-09    2.42e-09\n",
      "TE5             3.885e-13    3.9e-11      0.010      0.992   -7.61e-11    7.68e-11\n",
      "TE6             9.217e-13   9.25e-11      0.010      0.992    -1.8e-10    1.82e-10\n",
      "DE1            -2.877e-12   2.89e-10     -0.010      0.992   -5.69e-10    5.63e-10\n",
      "DE2            -6.314e-12   6.34e-10     -0.010      0.992   -1.25e-09    1.24e-09\n",
      "DE4            -1.867e-11   1.87e-09     -0.010      0.992   -3.69e-09    3.65e-09\n",
      "DE5            -1.813e-11   1.82e-09     -0.010      0.992   -3.59e-09    3.55e-09\n",
      "DE6            -1.775e-11   1.78e-09     -0.010      0.992   -3.51e-09    3.47e-09\n",
      "AUD            -3.821e-13   3.84e-11     -0.010      0.992   -7.56e-11    7.48e-11\n",
      "Brent           6.505e-14   6.53e-12      0.010      0.992   -1.27e-11    1.29e-11\n",
      "copper-F       -4.312e-13   4.33e-11     -0.010      0.992   -8.53e-11    8.44e-11\n",
      "WIT-oil        -8.421e-14   8.45e-12     -0.010      0.992   -1.67e-11    1.65e-11\n",
      "DJI-F          -9.729e-14   9.77e-12     -0.010      0.992   -1.92e-11     1.9e-11\n",
      "EUR             6.551e-14   6.58e-12      0.010      0.992   -1.28e-11     1.3e-11\n",
      "gold-F          -4.38e-13    4.4e-11     -0.010      0.992   -8.66e-11    8.57e-11\n",
      "NASDAQ-F       -7.625e-14   7.65e-12     -0.010      0.992   -1.51e-11    1.49e-11\n",
      "GAS-F           5.628e-13   5.65e-11      0.010      0.992    -1.1e-10    1.11e-10\n",
      "Nikkei-F        2.882e-13   2.89e-11      0.010      0.992   -5.64e-11     5.7e-11\n",
      "NZD            -4.593e-13   4.61e-11     -0.010      0.992   -9.08e-11    8.99e-11\n",
      "silver-F       -4.962e-13   4.98e-11     -0.010      0.992   -9.81e-11    9.71e-11\n",
      "RUSSELL-F      -3.235e-13   3.25e-11     -0.010      0.992    -6.4e-11    6.33e-11\n",
      "S&P-F          -1.748e-13   1.75e-11     -0.010      0.992   -3.46e-11    3.42e-11\n",
      "CHF             2.928e-13   2.94e-11      0.010      0.992   -5.73e-11    5.79e-11\n",
      "Dollar index-F    3.8e-14   3.81e-12      0.010      0.992   -7.44e-12    7.51e-12\n",
      "Dollar index    3.563e-14   3.58e-12      0.010      0.992   -6.97e-12    7.05e-12\n",
      "XAG            -9.897e-13   9.93e-11     -0.010      0.992   -1.96e-10    1.94e-10\n",
      "==============================================================================\n",
      "Omnibus:                     1047.198   Durbin-Watson:                   1.943\n",
      "Prob(Omnibus):                  0.000   Jarque-Bera (JB):             7553.077\n",
      "Skew:                          -0.521   Prob(JB):                         0.00\n",
      "Kurtosis:                       8.002   Cond. No.                     1.97e+17\n",
      "==============================================================================\n",
      "\n",
      "Notes:\n",
      "[1] Standard Errors assume that the covariance matrix of the errors is correctly specified.\n",
      "[2] The condition number is large, 1.97e+17. This might indicate that there are\n",
      "strong multicollinearity or other numerical problems.\n"
     ]
    }
   ]
  },
  {
   "cell_type": "markdown",
   "source": [
    "1. Коэффициенты регрессии модели Y = b0 + b1∙d1 + b2∙d2 + b3∙d3:\n",
    "\n",
    "\n",
    "\n",
    "> Intercept = b0 = 2.7089\n",
    "\n",
    ">b1 = 0.0441\n",
    ">b2 = 0.1993\n",
    ">b3 = 0.0069\n",
    "\n",
    "\n",
    "2. Коэффициент детерминации R-squared = 0.906, его скорректированная оценка Adj. R-squared = 0.903 - это означает, что регрессионная модель объясняет 90% вариации переменной Y.\n",
    "\n",
    "\n",
    "3. Проверка значимости коэффициента детерминации:\n",
    "\n",
    ">расчетное значение статистики критерия Фишера: F-statistic = 434,5\n",
    "\n",
    ">расчетный уровень значимости Prob (F-statistic) = 1.88e-69\n",
    "\n",
    ">так как значение Prob (F-statistic) < 0.05, то нулевая гипотеза R-squared = 0 НЕ ПРИНИМАЕТСЯ, т.е. коэффициент детерминации ЗНАЧИМ\n",
    "\n",
    "4. Проверка значимости коэффициентов регрессии:\n",
    "\n",
    ">расчетный уровень значимости P>|t| для b0, b1, b2 не превышает 0.05 - это означает, что коэффициенты регрессии значимы\n",
    "\n",
    ">об этом же свидетельствует то, что доверительный интервал для коэффициентов регрессии ([0.025; 0.975]) не включает в себя точку 0\n",
    "\n",
    ">расчетный уровень значимости P>|t| для b3 превышает 0.05. Нулевая гипотеза не отвергается. b3 не является значимым.\n",
    "Нулевая гипотеза - коэффициет равен нулю, альтернативная - не равен.\n",
    "\n",
    "5. значение t для b3 очень мало (чем выше значение t, тем выше шанс, что мы отвергаем нулевую гипотезу).\n",
    "\n",
    "Также в таблице результатов содержится прочая информация по коэффициентам регрессии: стандартная ошибка Std.Err. "
   ],
   "metadata": {
    "id": "bLW-Ey-fniV6",
    "pycharm": {
     "name": "#%% md\n"
    }
   }
  },
  {
   "cell_type": "markdown",
   "source": [
    "# Ваше задание\n",
    "Удаляем признаки, которые не являются значимыми, и повторяем обучение без них."
   ],
   "metadata": {
    "id": "3vc-DG5GJbsX",
    "pycharm": {
     "name": "#%% md\n"
    }
   }
  },
  {
   "cell_type": "code",
   "source": [],
   "metadata": {
    "id": "TzhPiY1VGL_g",
    "pycharm": {
     "name": "#%%\n"
    }
   },
   "execution_count": null,
   "outputs": []
  },
  {
   "cell_type": "code",
   "source": [
    "X_test = sm.add_constant(X_test)"
   ],
   "metadata": {
    "id": "X7z33Rxt_geo",
    "pycharm": {
     "name": "#%%\n"
    }
   },
   "execution_count": null,
   "outputs": []
  },
  {
   "cell_type": "code",
   "source": [
    "\n",
    "y_pred = results.predict(X_test)"
   ],
   "metadata": {
    "id": "1J80j2FVidaT",
    "pycharm": {
     "name": "#%%\n"
    }
   },
   "execution_count": null,
   "outputs": []
  },
  {
   "cell_type": "code",
   "source": [
    "residual = y_test - y_pred"
   ],
   "metadata": {
    "id": "zjRpUizzifH0",
    "pycharm": {
     "name": "#%%\n"
    }
   },
   "execution_count": null,
   "outputs": []
  },
  {
   "cell_type": "markdown",
   "source": [
    "# Предпосылки линейной регрессии\n",
    "Модель линейной регрессии можно построить не для любых данных, а только для данных, которые удовлетворяют ряду условий. И прежде, чем использовать регрессионное уравнение для прогнозирования, необходимо проверить выполнение этих условий. В ином случае наша модель не будет адекватна поставленной задаче, и ее использование будет бессмысленно."
   ],
   "metadata": {
    "id": "Bl78Zd_o_seD",
    "pycharm": {
     "name": "#%% md\n"
    }
   }
  },
  {
   "cell_type": "markdown",
   "source": [
    "# Наличие линейной зависимости\n",
    "Первая и самая естественная предпосылка заключается в линейности модели. Под этим условием подразумевается корректность модели, выбор адекватных предикторов и отсутствие лишних предикторов. А также линейную зависимость целевой переменной от независимых переменных."
   ],
   "metadata": {
    "id": "4SqH0aX-EFIS",
    "pycharm": {
     "name": "#%% md\n"
    }
   }
  },
  {
   "cell_type": "code",
   "source": [
    "sns.pairplot(df)"
   ],
   "metadata": {
    "id": "KTkSEBlbEKBj",
    "colab": {
     "base_uri": "https://localhost:8080/",
     "height": 743
    },
    "outputId": "b933eace-aa12-4f81-e7b9-14f7b8729510",
    "pycharm": {
     "name": "#%%\n"
    }
   },
   "execution_count": 160,
   "outputs": [
    {
     "ename": "KeyboardInterrupt",
     "evalue": "",
     "output_type": "error",
     "traceback": [
      "\u001B[1;31m---------------------------------------------------------------------------\u001B[0m",
      "\u001B[1;31mKeyboardInterrupt\u001B[0m                         Traceback (most recent call last)",
      "Cell \u001B[1;32mIn [160], line 1\u001B[0m\n\u001B[1;32m----> 1\u001B[0m \u001B[43msns\u001B[49m\u001B[38;5;241;43m.\u001B[39;49m\u001B[43mpairplot\u001B[49m\u001B[43m(\u001B[49m\u001B[43mdf\u001B[49m\u001B[43m)\u001B[49m\n",
      "File \u001B[1;32m~\\PycharmProjects\\PracticeAI\\venv\\lib\\site-packages\\seaborn\\axisgrid.py:2144\u001B[0m, in \u001B[0;36mpairplot\u001B[1;34m(data, hue, hue_order, palette, vars, x_vars, y_vars, kind, diag_kind, markers, height, aspect, corner, dropna, plot_kws, diag_kws, grid_kws, size)\u001B[0m\n\u001B[0;32m   2142\u001B[0m diag_kws\u001B[38;5;241m.\u001B[39msetdefault(\u001B[38;5;124m\"\u001B[39m\u001B[38;5;124mlegend\u001B[39m\u001B[38;5;124m\"\u001B[39m, \u001B[38;5;28;01mFalse\u001B[39;00m)\n\u001B[0;32m   2143\u001B[0m \u001B[38;5;28;01mif\u001B[39;00m diag_kind \u001B[38;5;241m==\u001B[39m \u001B[38;5;124m\"\u001B[39m\u001B[38;5;124mhist\u001B[39m\u001B[38;5;124m\"\u001B[39m:\n\u001B[1;32m-> 2144\u001B[0m     grid\u001B[38;5;241m.\u001B[39mmap_diag(histplot, \u001B[38;5;241m*\u001B[39m\u001B[38;5;241m*\u001B[39mdiag_kws)\n\u001B[0;32m   2145\u001B[0m \u001B[38;5;28;01melif\u001B[39;00m diag_kind \u001B[38;5;241m==\u001B[39m \u001B[38;5;124m\"\u001B[39m\u001B[38;5;124mkde\u001B[39m\u001B[38;5;124m\"\u001B[39m:\n\u001B[0;32m   2146\u001B[0m     diag_kws\u001B[38;5;241m.\u001B[39msetdefault(\u001B[38;5;124m\"\u001B[39m\u001B[38;5;124mfill\u001B[39m\u001B[38;5;124m\"\u001B[39m, \u001B[38;5;28;01mTrue\u001B[39;00m)\n",
      "File \u001B[1;32m~\\PycharmProjects\\PracticeAI\\venv\\lib\\site-packages\\seaborn\\axisgrid.py:1507\u001B[0m, in \u001B[0;36mPairGrid.map_diag\u001B[1;34m(self, func, **kwargs)\u001B[0m\n\u001B[0;32m   1505\u001B[0m     plot_kwargs\u001B[38;5;241m.\u001B[39msetdefault(\u001B[38;5;124m\"\u001B[39m\u001B[38;5;124mhue_order\u001B[39m\u001B[38;5;124m\"\u001B[39m, \u001B[38;5;28mself\u001B[39m\u001B[38;5;241m.\u001B[39m_hue_order)\n\u001B[0;32m   1506\u001B[0m     plot_kwargs\u001B[38;5;241m.\u001B[39msetdefault(\u001B[38;5;124m\"\u001B[39m\u001B[38;5;124mpalette\u001B[39m\u001B[38;5;124m\"\u001B[39m, \u001B[38;5;28mself\u001B[39m\u001B[38;5;241m.\u001B[39m_orig_palette)\n\u001B[1;32m-> 1507\u001B[0m     func(x\u001B[38;5;241m=\u001B[39mvector, \u001B[38;5;241m*\u001B[39m\u001B[38;5;241m*\u001B[39mplot_kwargs)\n\u001B[0;32m   1508\u001B[0m     ax\u001B[38;5;241m.\u001B[39mlegend_ \u001B[38;5;241m=\u001B[39m \u001B[38;5;28;01mNone\u001B[39;00m\n\u001B[0;32m   1510\u001B[0m \u001B[38;5;28mself\u001B[39m\u001B[38;5;241m.\u001B[39m_add_axis_labels()\n",
      "File \u001B[1;32m~\\PycharmProjects\\PracticeAI\\venv\\lib\\site-packages\\seaborn\\distributions.py:1432\u001B[0m, in \u001B[0;36mhistplot\u001B[1;34m(data, x, y, hue, weights, stat, bins, binwidth, binrange, discrete, cumulative, common_bins, common_norm, multiple, element, fill, shrink, kde, kde_kws, line_kws, thresh, pthresh, pmax, cbar, cbar_ax, cbar_kws, palette, hue_order, hue_norm, color, log_scale, legend, ax, **kwargs)\u001B[0m\n\u001B[0;32m   1421\u001B[0m estimate_kws \u001B[38;5;241m=\u001B[39m \u001B[38;5;28mdict\u001B[39m(\n\u001B[0;32m   1422\u001B[0m     stat\u001B[38;5;241m=\u001B[39mstat,\n\u001B[0;32m   1423\u001B[0m     bins\u001B[38;5;241m=\u001B[39mbins,\n\u001B[1;32m   (...)\u001B[0m\n\u001B[0;32m   1427\u001B[0m     cumulative\u001B[38;5;241m=\u001B[39mcumulative,\n\u001B[0;32m   1428\u001B[0m )\n\u001B[0;32m   1430\u001B[0m \u001B[38;5;28;01mif\u001B[39;00m p\u001B[38;5;241m.\u001B[39munivariate:\n\u001B[1;32m-> 1432\u001B[0m     p\u001B[38;5;241m.\u001B[39mplot_univariate_histogram(\n\u001B[0;32m   1433\u001B[0m         multiple\u001B[38;5;241m=\u001B[39mmultiple,\n\u001B[0;32m   1434\u001B[0m         element\u001B[38;5;241m=\u001B[39melement,\n\u001B[0;32m   1435\u001B[0m         fill\u001B[38;5;241m=\u001B[39mfill,\n\u001B[0;32m   1436\u001B[0m         shrink\u001B[38;5;241m=\u001B[39mshrink,\n\u001B[0;32m   1437\u001B[0m         common_norm\u001B[38;5;241m=\u001B[39mcommon_norm,\n\u001B[0;32m   1438\u001B[0m         common_bins\u001B[38;5;241m=\u001B[39mcommon_bins,\n\u001B[0;32m   1439\u001B[0m         kde\u001B[38;5;241m=\u001B[39mkde,\n\u001B[0;32m   1440\u001B[0m         kde_kws\u001B[38;5;241m=\u001B[39mkde_kws,\n\u001B[0;32m   1441\u001B[0m         color\u001B[38;5;241m=\u001B[39mcolor,\n\u001B[0;32m   1442\u001B[0m         legend\u001B[38;5;241m=\u001B[39mlegend,\n\u001B[0;32m   1443\u001B[0m         estimate_kws\u001B[38;5;241m=\u001B[39mestimate_kws,\n\u001B[0;32m   1444\u001B[0m         line_kws\u001B[38;5;241m=\u001B[39mline_kws,\n\u001B[0;32m   1445\u001B[0m         \u001B[38;5;241m*\u001B[39m\u001B[38;5;241m*\u001B[39mkwargs,\n\u001B[0;32m   1446\u001B[0m     )\n\u001B[0;32m   1448\u001B[0m \u001B[38;5;28;01melse\u001B[39;00m:\n\u001B[0;32m   1450\u001B[0m     p\u001B[38;5;241m.\u001B[39mplot_bivariate_histogram(\n\u001B[0;32m   1451\u001B[0m         common_bins\u001B[38;5;241m=\u001B[39mcommon_bins,\n\u001B[0;32m   1452\u001B[0m         common_norm\u001B[38;5;241m=\u001B[39mcommon_norm,\n\u001B[1;32m   (...)\u001B[0m\n\u001B[0;32m   1462\u001B[0m         \u001B[38;5;241m*\u001B[39m\u001B[38;5;241m*\u001B[39mkwargs,\n\u001B[0;32m   1463\u001B[0m     )\n",
      "File \u001B[1;32m~\\PycharmProjects\\PracticeAI\\venv\\lib\\site-packages\\seaborn\\distributions.py:669\u001B[0m, in \u001B[0;36m_DistributionPlotter.plot_univariate_histogram\u001B[1;34m(self, multiple, element, fill, common_norm, common_bins, shrink, kde, kde_kws, color, legend, line_kws, estimate_kws, **plot_kws)\u001B[0m\n\u001B[0;32m    662\u001B[0m             line\u001B[38;5;241m.\u001B[39msticky_edges\u001B[38;5;241m.\u001B[39my[:] \u001B[38;5;241m=\u001B[39m sticky_y\n\u001B[0;32m    664\u001B[0m \u001B[38;5;28;01mif\u001B[39;00m element \u001B[38;5;241m==\u001B[39m \u001B[38;5;124m\"\u001B[39m\u001B[38;5;124mbars\u001B[39m\u001B[38;5;124m\"\u001B[39m \u001B[38;5;129;01mand\u001B[39;00m \u001B[38;5;124m\"\u001B[39m\u001B[38;5;124mlinewidth\u001B[39m\u001B[38;5;124m\"\u001B[39m \u001B[38;5;129;01mnot\u001B[39;00m \u001B[38;5;129;01min\u001B[39;00m plot_kws:\n\u001B[0;32m    665\u001B[0m \n\u001B[0;32m    666\u001B[0m     \u001B[38;5;66;03m# Now we handle linewidth, which depends on the scaling of the plot\u001B[39;00m\n\u001B[0;32m    667\u001B[0m \n\u001B[0;32m    668\u001B[0m     \u001B[38;5;66;03m# We will base everything on the minimum bin width\u001B[39;00m\n\u001B[1;32m--> 669\u001B[0m     hist_metadata \u001B[38;5;241m=\u001B[39m \u001B[43mpd\u001B[49m\u001B[38;5;241;43m.\u001B[39;49m\u001B[43mconcat\u001B[49m\u001B[43m(\u001B[49m\u001B[43m[\u001B[49m\n\u001B[0;32m    670\u001B[0m \u001B[43m        \u001B[49m\u001B[38;5;66;43;03m# Use .items for generality over dict or df\u001B[39;49;00m\n\u001B[0;32m    671\u001B[0m \u001B[43m        \u001B[49m\u001B[43mh\u001B[49m\u001B[38;5;241;43m.\u001B[39;49m\u001B[43mindex\u001B[49m\u001B[38;5;241;43m.\u001B[39;49m\u001B[43mto_frame\u001B[49m\u001B[43m(\u001B[49m\u001B[43m)\u001B[49m\u001B[43m \u001B[49m\u001B[38;5;28;43;01mfor\u001B[39;49;00m\u001B[43m \u001B[49m\u001B[43m_\u001B[49m\u001B[43m,\u001B[49m\u001B[43m \u001B[49m\u001B[43mh\u001B[49m\u001B[43m \u001B[49m\u001B[38;5;129;43;01min\u001B[39;49;00m\u001B[43m \u001B[49m\u001B[43mhistograms\u001B[49m\u001B[38;5;241;43m.\u001B[39;49m\u001B[43mitems\u001B[49m\u001B[43m(\u001B[49m\u001B[43m)\u001B[49m\n\u001B[0;32m    672\u001B[0m \u001B[43m    \u001B[49m\u001B[43m]\u001B[49m\u001B[43m)\u001B[49m\u001B[38;5;241m.\u001B[39mreset_index(drop\u001B[38;5;241m=\u001B[39m\u001B[38;5;28;01mTrue\u001B[39;00m)\n\u001B[0;32m    673\u001B[0m     thin_bar_idx \u001B[38;5;241m=\u001B[39m hist_metadata[\u001B[38;5;124m\"\u001B[39m\u001B[38;5;124mwidths\u001B[39m\u001B[38;5;124m\"\u001B[39m]\u001B[38;5;241m.\u001B[39midxmin()\n\u001B[0;32m    674\u001B[0m     binwidth \u001B[38;5;241m=\u001B[39m hist_metadata\u001B[38;5;241m.\u001B[39mloc[thin_bar_idx, \u001B[38;5;124m\"\u001B[39m\u001B[38;5;124mwidths\u001B[39m\u001B[38;5;124m\"\u001B[39m]\n",
      "File \u001B[1;32m~\\PycharmProjects\\PracticeAI\\venv\\lib\\site-packages\\pandas\\util\\_decorators.py:331\u001B[0m, in \u001B[0;36mdeprecate_nonkeyword_arguments.<locals>.decorate.<locals>.wrapper\u001B[1;34m(*args, **kwargs)\u001B[0m\n\u001B[0;32m    325\u001B[0m \u001B[38;5;28;01mif\u001B[39;00m \u001B[38;5;28mlen\u001B[39m(args) \u001B[38;5;241m>\u001B[39m num_allow_args:\n\u001B[0;32m    326\u001B[0m     warnings\u001B[38;5;241m.\u001B[39mwarn(\n\u001B[0;32m    327\u001B[0m         msg\u001B[38;5;241m.\u001B[39mformat(arguments\u001B[38;5;241m=\u001B[39m_format_argument_list(allow_args)),\n\u001B[0;32m    328\u001B[0m         \u001B[38;5;167;01mFutureWarning\u001B[39;00m,\n\u001B[0;32m    329\u001B[0m         stacklevel\u001B[38;5;241m=\u001B[39mfind_stack_level(),\n\u001B[0;32m    330\u001B[0m     )\n\u001B[1;32m--> 331\u001B[0m \u001B[38;5;28;01mreturn\u001B[39;00m func(\u001B[38;5;241m*\u001B[39margs, \u001B[38;5;241m*\u001B[39m\u001B[38;5;241m*\u001B[39mkwargs)\n",
      "File \u001B[1;32m~\\PycharmProjects\\PracticeAI\\venv\\lib\\site-packages\\pandas\\core\\reshape\\concat.py:368\u001B[0m, in \u001B[0;36mconcat\u001B[1;34m(objs, axis, join, ignore_index, keys, levels, names, verify_integrity, sort, copy)\u001B[0m\n\u001B[0;32m    146\u001B[0m \u001B[38;5;129m@deprecate_nonkeyword_arguments\u001B[39m(version\u001B[38;5;241m=\u001B[39m\u001B[38;5;28;01mNone\u001B[39;00m, allowed_args\u001B[38;5;241m=\u001B[39m[\u001B[38;5;124m\"\u001B[39m\u001B[38;5;124mobjs\u001B[39m\u001B[38;5;124m\"\u001B[39m])\n\u001B[0;32m    147\u001B[0m \u001B[38;5;28;01mdef\u001B[39;00m \u001B[38;5;21mconcat\u001B[39m(\n\u001B[0;32m    148\u001B[0m     objs: Iterable[NDFrame] \u001B[38;5;241m|\u001B[39m Mapping[HashableT, NDFrame],\n\u001B[1;32m   (...)\u001B[0m\n\u001B[0;32m    157\u001B[0m     copy: \u001B[38;5;28mbool\u001B[39m \u001B[38;5;241m=\u001B[39m \u001B[38;5;28;01mTrue\u001B[39;00m,\n\u001B[0;32m    158\u001B[0m ) \u001B[38;5;241m-\u001B[39m\u001B[38;5;241m>\u001B[39m DataFrame \u001B[38;5;241m|\u001B[39m Series:\n\u001B[0;32m    159\u001B[0m     \u001B[38;5;124;03m\"\"\"\u001B[39;00m\n\u001B[0;32m    160\u001B[0m \u001B[38;5;124;03m    Concatenate pandas objects along a particular axis.\u001B[39;00m\n\u001B[0;32m    161\u001B[0m \n\u001B[1;32m   (...)\u001B[0m\n\u001B[0;32m    366\u001B[0m \u001B[38;5;124;03m    1   3   4\u001B[39;00m\n\u001B[0;32m    367\u001B[0m \u001B[38;5;124;03m    \"\"\"\u001B[39;00m\n\u001B[1;32m--> 368\u001B[0m     op \u001B[38;5;241m=\u001B[39m \u001B[43m_Concatenator\u001B[49m\u001B[43m(\u001B[49m\n\u001B[0;32m    369\u001B[0m \u001B[43m        \u001B[49m\u001B[43mobjs\u001B[49m\u001B[43m,\u001B[49m\n\u001B[0;32m    370\u001B[0m \u001B[43m        \u001B[49m\u001B[43maxis\u001B[49m\u001B[38;5;241;43m=\u001B[39;49m\u001B[43maxis\u001B[49m\u001B[43m,\u001B[49m\n\u001B[0;32m    371\u001B[0m \u001B[43m        \u001B[49m\u001B[43mignore_index\u001B[49m\u001B[38;5;241;43m=\u001B[39;49m\u001B[43mignore_index\u001B[49m\u001B[43m,\u001B[49m\n\u001B[0;32m    372\u001B[0m \u001B[43m        \u001B[49m\u001B[43mjoin\u001B[49m\u001B[38;5;241;43m=\u001B[39;49m\u001B[43mjoin\u001B[49m\u001B[43m,\u001B[49m\n\u001B[0;32m    373\u001B[0m \u001B[43m        \u001B[49m\u001B[43mkeys\u001B[49m\u001B[38;5;241;43m=\u001B[39;49m\u001B[43mkeys\u001B[49m\u001B[43m,\u001B[49m\n\u001B[0;32m    374\u001B[0m \u001B[43m        \u001B[49m\u001B[43mlevels\u001B[49m\u001B[38;5;241;43m=\u001B[39;49m\u001B[43mlevels\u001B[49m\u001B[43m,\u001B[49m\n\u001B[0;32m    375\u001B[0m \u001B[43m        \u001B[49m\u001B[43mnames\u001B[49m\u001B[38;5;241;43m=\u001B[39;49m\u001B[43mnames\u001B[49m\u001B[43m,\u001B[49m\n\u001B[0;32m    376\u001B[0m \u001B[43m        \u001B[49m\u001B[43mverify_integrity\u001B[49m\u001B[38;5;241;43m=\u001B[39;49m\u001B[43mverify_integrity\u001B[49m\u001B[43m,\u001B[49m\n\u001B[0;32m    377\u001B[0m \u001B[43m        \u001B[49m\u001B[43mcopy\u001B[49m\u001B[38;5;241;43m=\u001B[39;49m\u001B[43mcopy\u001B[49m\u001B[43m,\u001B[49m\n\u001B[0;32m    378\u001B[0m \u001B[43m        \u001B[49m\u001B[43msort\u001B[49m\u001B[38;5;241;43m=\u001B[39;49m\u001B[43msort\u001B[49m\u001B[43m,\u001B[49m\n\u001B[0;32m    379\u001B[0m \u001B[43m    \u001B[49m\u001B[43m)\u001B[49m\n\u001B[0;32m    381\u001B[0m     \u001B[38;5;28;01mreturn\u001B[39;00m op\u001B[38;5;241m.\u001B[39mget_result()\n",
      "File \u001B[1;32m~\\PycharmProjects\\PracticeAI\\venv\\lib\\site-packages\\pandas\\core\\reshape\\concat.py:563\u001B[0m, in \u001B[0;36m_Concatenator.__init__\u001B[1;34m(self, objs, axis, join, keys, levels, names, ignore_index, verify_integrity, copy, sort)\u001B[0m\n\u001B[0;32m    560\u001B[0m \u001B[38;5;28mself\u001B[39m\u001B[38;5;241m.\u001B[39mverify_integrity \u001B[38;5;241m=\u001B[39m verify_integrity\n\u001B[0;32m    561\u001B[0m \u001B[38;5;28mself\u001B[39m\u001B[38;5;241m.\u001B[39mcopy \u001B[38;5;241m=\u001B[39m copy\n\u001B[1;32m--> 563\u001B[0m \u001B[38;5;28mself\u001B[39m\u001B[38;5;241m.\u001B[39mnew_axes \u001B[38;5;241m=\u001B[39m \u001B[38;5;28;43mself\u001B[39;49m\u001B[38;5;241;43m.\u001B[39;49m\u001B[43m_get_new_axes\u001B[49m\u001B[43m(\u001B[49m\u001B[43m)\u001B[49m\n",
      "File \u001B[1;32m~\\PycharmProjects\\PracticeAI\\venv\\lib\\site-packages\\pandas\\core\\reshape\\concat.py:633\u001B[0m, in \u001B[0;36m_Concatenator._get_new_axes\u001B[1;34m(self)\u001B[0m\n\u001B[0;32m    631\u001B[0m \u001B[38;5;28;01mdef\u001B[39;00m \u001B[38;5;21m_get_new_axes\u001B[39m(\u001B[38;5;28mself\u001B[39m) \u001B[38;5;241m-\u001B[39m\u001B[38;5;241m>\u001B[39m \u001B[38;5;28mlist\u001B[39m[Index]:\n\u001B[0;32m    632\u001B[0m     ndim \u001B[38;5;241m=\u001B[39m \u001B[38;5;28mself\u001B[39m\u001B[38;5;241m.\u001B[39m_get_result_dim()\n\u001B[1;32m--> 633\u001B[0m     \u001B[38;5;28;01mreturn\u001B[39;00m [\n\u001B[0;32m    634\u001B[0m         \u001B[38;5;28mself\u001B[39m\u001B[38;5;241m.\u001B[39m_get_concat_axis \u001B[38;5;28;01mif\u001B[39;00m i \u001B[38;5;241m==\u001B[39m \u001B[38;5;28mself\u001B[39m\u001B[38;5;241m.\u001B[39mbm_axis \u001B[38;5;28;01melse\u001B[39;00m \u001B[38;5;28mself\u001B[39m\u001B[38;5;241m.\u001B[39m_get_comb_axis(i)\n\u001B[0;32m    635\u001B[0m         \u001B[38;5;28;01mfor\u001B[39;00m i \u001B[38;5;129;01min\u001B[39;00m \u001B[38;5;28mrange\u001B[39m(ndim)\n\u001B[0;32m    636\u001B[0m     ]\n",
      "File \u001B[1;32m~\\PycharmProjects\\PracticeAI\\venv\\lib\\site-packages\\pandas\\core\\reshape\\concat.py:634\u001B[0m, in \u001B[0;36m<listcomp>\u001B[1;34m(.0)\u001B[0m\n\u001B[0;32m    631\u001B[0m \u001B[38;5;28;01mdef\u001B[39;00m \u001B[38;5;21m_get_new_axes\u001B[39m(\u001B[38;5;28mself\u001B[39m) \u001B[38;5;241m-\u001B[39m\u001B[38;5;241m>\u001B[39m \u001B[38;5;28mlist\u001B[39m[Index]:\n\u001B[0;32m    632\u001B[0m     ndim \u001B[38;5;241m=\u001B[39m \u001B[38;5;28mself\u001B[39m\u001B[38;5;241m.\u001B[39m_get_result_dim()\n\u001B[0;32m    633\u001B[0m     \u001B[38;5;28;01mreturn\u001B[39;00m [\n\u001B[1;32m--> 634\u001B[0m         \u001B[38;5;28;43mself\u001B[39;49m\u001B[38;5;241;43m.\u001B[39;49m\u001B[43m_get_concat_axis\u001B[49m \u001B[38;5;28;01mif\u001B[39;00m i \u001B[38;5;241m==\u001B[39m \u001B[38;5;28mself\u001B[39m\u001B[38;5;241m.\u001B[39mbm_axis \u001B[38;5;28;01melse\u001B[39;00m \u001B[38;5;28mself\u001B[39m\u001B[38;5;241m.\u001B[39m_get_comb_axis(i)\n\u001B[0;32m    635\u001B[0m         \u001B[38;5;28;01mfor\u001B[39;00m i \u001B[38;5;129;01min\u001B[39;00m \u001B[38;5;28mrange\u001B[39m(ndim)\n\u001B[0;32m    636\u001B[0m     ]\n",
      "File \u001B[1;32m~\\PycharmProjects\\PracticeAI\\venv\\lib\\site-packages\\pandas\\_libs\\properties.pyx:36\u001B[0m, in \u001B[0;36mpandas._libs.properties.CachedProperty.__get__\u001B[1;34m()\u001B[0m\n",
      "File \u001B[1;32m~\\PycharmProjects\\PracticeAI\\venv\\lib\\site-packages\\pandas\\core\\reshape\\concat.py:691\u001B[0m, in \u001B[0;36m_Concatenator._get_concat_axis\u001B[1;34m(self)\u001B[0m\n\u001B[0;32m    689\u001B[0m     \u001B[38;5;28;01mif\u001B[39;00m \u001B[38;5;28mself\u001B[39m\u001B[38;5;241m.\u001B[39mlevels \u001B[38;5;129;01mis\u001B[39;00m \u001B[38;5;129;01mnot\u001B[39;00m \u001B[38;5;28;01mNone\u001B[39;00m:\n\u001B[0;32m    690\u001B[0m         \u001B[38;5;28;01mraise\u001B[39;00m \u001B[38;5;167;01mValueError\u001B[39;00m(\u001B[38;5;124m\"\u001B[39m\u001B[38;5;124mlevels supported only when keys is not None\u001B[39m\u001B[38;5;124m\"\u001B[39m)\n\u001B[1;32m--> 691\u001B[0m     concat_axis \u001B[38;5;241m=\u001B[39m \u001B[43m_concat_indexes\u001B[49m\u001B[43m(\u001B[49m\u001B[43mindexes\u001B[49m\u001B[43m)\u001B[49m\n\u001B[0;32m    692\u001B[0m \u001B[38;5;28;01melse\u001B[39;00m:\n\u001B[0;32m    693\u001B[0m     concat_axis \u001B[38;5;241m=\u001B[39m _make_concat_multiindex(\n\u001B[0;32m    694\u001B[0m         indexes, \u001B[38;5;28mself\u001B[39m\u001B[38;5;241m.\u001B[39mkeys, \u001B[38;5;28mself\u001B[39m\u001B[38;5;241m.\u001B[39mlevels, \u001B[38;5;28mself\u001B[39m\u001B[38;5;241m.\u001B[39mnames\n\u001B[0;32m    695\u001B[0m     )\n",
      "File \u001B[1;32m~\\PycharmProjects\\PracticeAI\\venv\\lib\\site-packages\\pandas\\core\\reshape\\concat.py:709\u001B[0m, in \u001B[0;36m_concat_indexes\u001B[1;34m(indexes)\u001B[0m\n\u001B[0;32m    708\u001B[0m \u001B[38;5;28;01mdef\u001B[39;00m \u001B[38;5;21m_concat_indexes\u001B[39m(indexes) \u001B[38;5;241m-\u001B[39m\u001B[38;5;241m>\u001B[39m Index:\n\u001B[1;32m--> 709\u001B[0m     \u001B[38;5;28;01mreturn\u001B[39;00m \u001B[43mindexes\u001B[49m\u001B[43m[\u001B[49m\u001B[38;5;241;43m0\u001B[39;49m\u001B[43m]\u001B[49m\u001B[38;5;241;43m.\u001B[39;49m\u001B[43mappend\u001B[49m\u001B[43m(\u001B[49m\u001B[43mindexes\u001B[49m\u001B[43m[\u001B[49m\u001B[38;5;241;43m1\u001B[39;49m\u001B[43m:\u001B[49m\u001B[43m]\u001B[49m\u001B[43m)\u001B[49m\n",
      "File \u001B[1;32m~\\PycharmProjects\\PracticeAI\\venv\\lib\\site-packages\\pandas\\core\\indexes\\multi.py:2212\u001B[0m, in \u001B[0;36mMultiIndex.append\u001B[1;34m(self, other)\u001B[0m\n\u001B[0;32m   2210\u001B[0m         appended \u001B[38;5;241m=\u001B[39m [o\u001B[38;5;241m.\u001B[39m_get_level_values(i) \u001B[38;5;28;01mfor\u001B[39;00m o \u001B[38;5;129;01min\u001B[39;00m other]\n\u001B[0;32m   2211\u001B[0m         arrays\u001B[38;5;241m.\u001B[39mappend(label\u001B[38;5;241m.\u001B[39mappend(appended))\n\u001B[1;32m-> 2212\u001B[0m     \u001B[38;5;28;01mreturn\u001B[39;00m \u001B[43mMultiIndex\u001B[49m\u001B[38;5;241;43m.\u001B[39;49m\u001B[43mfrom_arrays\u001B[49m\u001B[43m(\u001B[49m\u001B[43marrays\u001B[49m\u001B[43m,\u001B[49m\u001B[43m \u001B[49m\u001B[43mnames\u001B[49m\u001B[38;5;241;43m=\u001B[39;49m\u001B[38;5;28;43mself\u001B[39;49m\u001B[38;5;241;43m.\u001B[39;49m\u001B[43mnames\u001B[49m\u001B[43m)\u001B[49m\n\u001B[0;32m   2214\u001B[0m to_concat \u001B[38;5;241m=\u001B[39m (\u001B[38;5;28mself\u001B[39m\u001B[38;5;241m.\u001B[39m_values,) \u001B[38;5;241m+\u001B[39m \u001B[38;5;28mtuple\u001B[39m(k\u001B[38;5;241m.\u001B[39m_values \u001B[38;5;28;01mfor\u001B[39;00m k \u001B[38;5;129;01min\u001B[39;00m other)\n\u001B[0;32m   2215\u001B[0m new_tuples \u001B[38;5;241m=\u001B[39m np\u001B[38;5;241m.\u001B[39mconcatenate(to_concat)\n",
      "File \u001B[1;32m~\\PycharmProjects\\PracticeAI\\venv\\lib\\site-packages\\pandas\\core\\indexes\\multi.py:489\u001B[0m, in \u001B[0;36mMultiIndex.from_arrays\u001B[1;34m(cls, arrays, sortorder, names)\u001B[0m\n\u001B[0;32m    486\u001B[0m     \u001B[38;5;28;01mif\u001B[39;00m \u001B[38;5;28mlen\u001B[39m(arrays[i]) \u001B[38;5;241m!=\u001B[39m \u001B[38;5;28mlen\u001B[39m(arrays[i \u001B[38;5;241m-\u001B[39m \u001B[38;5;241m1\u001B[39m]):\n\u001B[0;32m    487\u001B[0m         \u001B[38;5;28;01mraise\u001B[39;00m \u001B[38;5;167;01mValueError\u001B[39;00m(\u001B[38;5;124m\"\u001B[39m\u001B[38;5;124mall arrays must be same length\u001B[39m\u001B[38;5;124m\"\u001B[39m)\n\u001B[1;32m--> 489\u001B[0m codes, levels \u001B[38;5;241m=\u001B[39m \u001B[43mfactorize_from_iterables\u001B[49m\u001B[43m(\u001B[49m\u001B[43marrays\u001B[49m\u001B[43m)\u001B[49m\n\u001B[0;32m    490\u001B[0m \u001B[38;5;28;01mif\u001B[39;00m names \u001B[38;5;129;01mis\u001B[39;00m lib\u001B[38;5;241m.\u001B[39mno_default:\n\u001B[0;32m    491\u001B[0m     names \u001B[38;5;241m=\u001B[39m [\u001B[38;5;28mgetattr\u001B[39m(arr, \u001B[38;5;124m\"\u001B[39m\u001B[38;5;124mname\u001B[39m\u001B[38;5;124m\"\u001B[39m, \u001B[38;5;28;01mNone\u001B[39;00m) \u001B[38;5;28;01mfor\u001B[39;00m arr \u001B[38;5;129;01min\u001B[39;00m arrays]\n",
      "File \u001B[1;32m~\\PycharmProjects\\PracticeAI\\venv\\lib\\site-packages\\pandas\\core\\arrays\\categorical.py:3007\u001B[0m, in \u001B[0;36mfactorize_from_iterables\u001B[1;34m(iterables)\u001B[0m\n\u001B[0;32m   3003\u001B[0m \u001B[38;5;28;01mif\u001B[39;00m \u001B[38;5;28mlen\u001B[39m(iterables) \u001B[38;5;241m==\u001B[39m \u001B[38;5;241m0\u001B[39m:\n\u001B[0;32m   3004\u001B[0m     \u001B[38;5;66;03m# For consistency, it should return two empty lists.\u001B[39;00m\n\u001B[0;32m   3005\u001B[0m     \u001B[38;5;28;01mreturn\u001B[39;00m [], []\n\u001B[1;32m-> 3007\u001B[0m codes, categories \u001B[38;5;241m=\u001B[39m \u001B[38;5;28;43mzip\u001B[39;49m\u001B[43m(\u001B[49m\u001B[38;5;241;43m*\u001B[39;49m\u001B[43m(\u001B[49m\u001B[43mfactorize_from_iterable\u001B[49m\u001B[43m(\u001B[49m\u001B[43mit\u001B[49m\u001B[43m)\u001B[49m\u001B[43m \u001B[49m\u001B[38;5;28;43;01mfor\u001B[39;49;00m\u001B[43m \u001B[49m\u001B[43mit\u001B[49m\u001B[43m \u001B[49m\u001B[38;5;129;43;01min\u001B[39;49;00m\u001B[43m \u001B[49m\u001B[43miterables\u001B[49m\u001B[43m)\u001B[49m\u001B[43m)\u001B[49m\n\u001B[0;32m   3008\u001B[0m \u001B[38;5;28;01mreturn\u001B[39;00m \u001B[38;5;28mlist\u001B[39m(codes), \u001B[38;5;28mlist\u001B[39m(categories)\n",
      "File \u001B[1;32m~\\PycharmProjects\\PracticeAI\\venv\\lib\\site-packages\\pandas\\core\\arrays\\categorical.py:3007\u001B[0m, in \u001B[0;36m<genexpr>\u001B[1;34m(.0)\u001B[0m\n\u001B[0;32m   3003\u001B[0m \u001B[38;5;28;01mif\u001B[39;00m \u001B[38;5;28mlen\u001B[39m(iterables) \u001B[38;5;241m==\u001B[39m \u001B[38;5;241m0\u001B[39m:\n\u001B[0;32m   3004\u001B[0m     \u001B[38;5;66;03m# For consistency, it should return two empty lists.\u001B[39;00m\n\u001B[0;32m   3005\u001B[0m     \u001B[38;5;28;01mreturn\u001B[39;00m [], []\n\u001B[1;32m-> 3007\u001B[0m codes, categories \u001B[38;5;241m=\u001B[39m \u001B[38;5;28mzip\u001B[39m(\u001B[38;5;241m*\u001B[39m(\u001B[43mfactorize_from_iterable\u001B[49m\u001B[43m(\u001B[49m\u001B[43mit\u001B[49m\u001B[43m)\u001B[49m \u001B[38;5;28;01mfor\u001B[39;00m it \u001B[38;5;129;01min\u001B[39;00m iterables))\n\u001B[0;32m   3008\u001B[0m \u001B[38;5;28;01mreturn\u001B[39;00m \u001B[38;5;28mlist\u001B[39m(codes), \u001B[38;5;28mlist\u001B[39m(categories)\n",
      "File \u001B[1;32m~\\PycharmProjects\\PracticeAI\\venv\\lib\\site-packages\\pandas\\core\\arrays\\categorical.py:2980\u001B[0m, in \u001B[0;36mfactorize_from_iterable\u001B[1;34m(values)\u001B[0m\n\u001B[0;32m   2975\u001B[0m     codes \u001B[38;5;241m=\u001B[39m values\u001B[38;5;241m.\u001B[39mcodes\n\u001B[0;32m   2976\u001B[0m \u001B[38;5;28;01melse\u001B[39;00m:\n\u001B[0;32m   2977\u001B[0m     \u001B[38;5;66;03m# The value of ordered is irrelevant since we don't use cat as such,\u001B[39;00m\n\u001B[0;32m   2978\u001B[0m     \u001B[38;5;66;03m# but only the resulting categories, the order of which is independent\u001B[39;00m\n\u001B[0;32m   2979\u001B[0m     \u001B[38;5;66;03m# from ordered. Set ordered to False as default. See GH #15457\u001B[39;00m\n\u001B[1;32m-> 2980\u001B[0m     cat \u001B[38;5;241m=\u001B[39m \u001B[43mCategorical\u001B[49m\u001B[43m(\u001B[49m\u001B[43mvalues\u001B[49m\u001B[43m,\u001B[49m\u001B[43m \u001B[49m\u001B[43mordered\u001B[49m\u001B[38;5;241;43m=\u001B[39;49m\u001B[38;5;28;43;01mFalse\u001B[39;49;00m\u001B[43m)\u001B[49m\n\u001B[0;32m   2981\u001B[0m     categories \u001B[38;5;241m=\u001B[39m cat\u001B[38;5;241m.\u001B[39mcategories\n\u001B[0;32m   2982\u001B[0m     codes \u001B[38;5;241m=\u001B[39m cat\u001B[38;5;241m.\u001B[39mcodes\n",
      "File \u001B[1;32m~\\PycharmProjects\\PracticeAI\\venv\\lib\\site-packages\\pandas\\core\\arrays\\categorical.py:441\u001B[0m, in \u001B[0;36mCategorical.__init__\u001B[1;34m(self, values, categories, ordered, dtype, fastpath, copy)\u001B[0m\n\u001B[0;32m    439\u001B[0m \u001B[38;5;28;01mif\u001B[39;00m dtype\u001B[38;5;241m.\u001B[39mcategories \u001B[38;5;129;01mis\u001B[39;00m \u001B[38;5;28;01mNone\u001B[39;00m:\n\u001B[0;32m    440\u001B[0m     \u001B[38;5;28;01mtry\u001B[39;00m:\n\u001B[1;32m--> 441\u001B[0m         codes, categories \u001B[38;5;241m=\u001B[39m \u001B[43mfactorize\u001B[49m\u001B[43m(\u001B[49m\u001B[43mvalues\u001B[49m\u001B[43m,\u001B[49m\u001B[43m \u001B[49m\u001B[43msort\u001B[49m\u001B[38;5;241;43m=\u001B[39;49m\u001B[38;5;28;43;01mTrue\u001B[39;49;00m\u001B[43m)\u001B[49m\n\u001B[0;32m    442\u001B[0m     \u001B[38;5;28;01mexcept\u001B[39;00m \u001B[38;5;167;01mTypeError\u001B[39;00m \u001B[38;5;28;01mas\u001B[39;00m err:\n\u001B[0;32m    443\u001B[0m         codes, categories \u001B[38;5;241m=\u001B[39m factorize(values, sort\u001B[38;5;241m=\u001B[39m\u001B[38;5;28;01mFalse\u001B[39;00m)\n",
      "File \u001B[1;32m~\\PycharmProjects\\PracticeAI\\venv\\lib\\site-packages\\pandas\\core\\algorithms.py:818\u001B[0m, in \u001B[0;36mfactorize\u001B[1;34m(values, sort, na_sentinel, use_na_sentinel, size_hint)\u001B[0m\n\u001B[0;32m    815\u001B[0m             \u001B[38;5;66;03m# Don't modify (potentially user-provided) array\u001B[39;00m\n\u001B[0;32m    816\u001B[0m             values \u001B[38;5;241m=\u001B[39m np\u001B[38;5;241m.\u001B[39mwhere(null_mask, na_value, values)\n\u001B[1;32m--> 818\u001B[0m     codes, uniques \u001B[38;5;241m=\u001B[39m \u001B[43mfactorize_array\u001B[49m\u001B[43m(\u001B[49m\n\u001B[0;32m    819\u001B[0m \u001B[43m        \u001B[49m\u001B[43mvalues\u001B[49m\u001B[43m,\u001B[49m\n\u001B[0;32m    820\u001B[0m \u001B[43m        \u001B[49m\u001B[43mna_sentinel\u001B[49m\u001B[38;5;241;43m=\u001B[39;49m\u001B[43mna_sentinel_arg\u001B[49m\u001B[43m,\u001B[49m\n\u001B[0;32m    821\u001B[0m \u001B[43m        \u001B[49m\u001B[43msize_hint\u001B[49m\u001B[38;5;241;43m=\u001B[39;49m\u001B[43msize_hint\u001B[49m\u001B[43m,\u001B[49m\n\u001B[0;32m    822\u001B[0m \u001B[43m    \u001B[49m\u001B[43m)\u001B[49m\n\u001B[0;32m    824\u001B[0m \u001B[38;5;28;01mif\u001B[39;00m sort \u001B[38;5;129;01mand\u001B[39;00m \u001B[38;5;28mlen\u001B[39m(uniques) \u001B[38;5;241m>\u001B[39m \u001B[38;5;241m0\u001B[39m:\n\u001B[0;32m    825\u001B[0m     \u001B[38;5;28;01mif\u001B[39;00m na_sentinel \u001B[38;5;129;01mis\u001B[39;00m \u001B[38;5;28;01mNone\u001B[39;00m:\n\u001B[0;32m    826\u001B[0m         \u001B[38;5;66;03m# TODO: Can remove when na_sentinel=na_sentinel as in TODO above\u001B[39;00m\n",
      "File \u001B[1;32m~\\PycharmProjects\\PracticeAI\\venv\\lib\\site-packages\\pandas\\core\\algorithms.py:574\u001B[0m, in \u001B[0;36mfactorize_array\u001B[1;34m(values, na_sentinel, size_hint, na_value, mask)\u001B[0m\n\u001B[0;32m    571\u001B[0m hash_klass, values \u001B[38;5;241m=\u001B[39m _get_hashtable_algo(values)\n\u001B[0;32m    573\u001B[0m table \u001B[38;5;241m=\u001B[39m hash_klass(size_hint \u001B[38;5;129;01mor\u001B[39;00m \u001B[38;5;28mlen\u001B[39m(values))\n\u001B[1;32m--> 574\u001B[0m uniques, codes \u001B[38;5;241m=\u001B[39m \u001B[43mtable\u001B[49m\u001B[38;5;241;43m.\u001B[39;49m\u001B[43mfactorize\u001B[49m\u001B[43m(\u001B[49m\n\u001B[0;32m    575\u001B[0m \u001B[43m    \u001B[49m\u001B[43mvalues\u001B[49m\u001B[43m,\u001B[49m\n\u001B[0;32m    576\u001B[0m \u001B[43m    \u001B[49m\u001B[43mna_sentinel\u001B[49m\u001B[38;5;241;43m=\u001B[39;49m\u001B[43mna_sentinel\u001B[49m\u001B[43m,\u001B[49m\n\u001B[0;32m    577\u001B[0m \u001B[43m    \u001B[49m\u001B[43mna_value\u001B[49m\u001B[38;5;241;43m=\u001B[39;49m\u001B[43mna_value\u001B[49m\u001B[43m,\u001B[49m\n\u001B[0;32m    578\u001B[0m \u001B[43m    \u001B[49m\u001B[43mmask\u001B[49m\u001B[38;5;241;43m=\u001B[39;49m\u001B[43mmask\u001B[49m\u001B[43m,\u001B[49m\n\u001B[0;32m    579\u001B[0m \u001B[43m    \u001B[49m\u001B[43mignore_na\u001B[49m\u001B[38;5;241;43m=\u001B[39;49m\u001B[43mignore_na\u001B[49m\u001B[43m,\u001B[49m\n\u001B[0;32m    580\u001B[0m \u001B[43m\u001B[49m\u001B[43m)\u001B[49m\n\u001B[0;32m    582\u001B[0m \u001B[38;5;66;03m# re-cast e.g. i8->dt64/td64, uint8->bool\u001B[39;00m\n\u001B[0;32m    583\u001B[0m uniques \u001B[38;5;241m=\u001B[39m _reconstruct_data(uniques, original\u001B[38;5;241m.\u001B[39mdtype, original)\n",
      "\u001B[1;31mKeyboardInterrupt\u001B[0m: "
     ]
    },
    {
     "name": "stdout",
     "output_type": "stream",
     "text": [
      "Error in callback <function flush_figures at 0x000000004E800940> (for post_execute):\n"
     ]
    },
    {
     "ename": "KeyboardInterrupt",
     "evalue": "",
     "output_type": "error",
     "traceback": [
      "\u001B[1;31m---------------------------------------------------------------------------\u001B[0m",
      "\u001B[1;31mKeyboardInterrupt\u001B[0m                         Traceback (most recent call last)",
      "File \u001B[1;32m~\\PycharmProjects\\PracticeAI\\venv\\lib\\site-packages\\matplotlib_inline\\backend_inline.py:126\u001B[0m, in \u001B[0;36mflush_figures\u001B[1;34m()\u001B[0m\n\u001B[0;32m    123\u001B[0m \u001B[38;5;28;01mif\u001B[39;00m InlineBackend\u001B[38;5;241m.\u001B[39minstance()\u001B[38;5;241m.\u001B[39mclose_figures:\n\u001B[0;32m    124\u001B[0m     \u001B[38;5;66;03m# ignore the tracking, just draw and close all figures\u001B[39;00m\n\u001B[0;32m    125\u001B[0m     \u001B[38;5;28;01mtry\u001B[39;00m:\n\u001B[1;32m--> 126\u001B[0m         \u001B[38;5;28;01mreturn\u001B[39;00m \u001B[43mshow\u001B[49m\u001B[43m(\u001B[49m\u001B[38;5;28;43;01mTrue\u001B[39;49;00m\u001B[43m)\u001B[49m\n\u001B[0;32m    127\u001B[0m     \u001B[38;5;28;01mexcept\u001B[39;00m \u001B[38;5;167;01mException\u001B[39;00m \u001B[38;5;28;01mas\u001B[39;00m e:\n\u001B[0;32m    128\u001B[0m         \u001B[38;5;66;03m# safely show traceback if in IPython, else raise\u001B[39;00m\n\u001B[0;32m    129\u001B[0m         ip \u001B[38;5;241m=\u001B[39m get_ipython()\n",
      "File \u001B[1;32m~\\PycharmProjects\\PracticeAI\\venv\\lib\\site-packages\\matplotlib_inline\\backend_inline.py:90\u001B[0m, in \u001B[0;36mshow\u001B[1;34m(close, block)\u001B[0m\n\u001B[0;32m     88\u001B[0m \u001B[38;5;28;01mtry\u001B[39;00m:\n\u001B[0;32m     89\u001B[0m     \u001B[38;5;28;01mfor\u001B[39;00m figure_manager \u001B[38;5;129;01min\u001B[39;00m Gcf\u001B[38;5;241m.\u001B[39mget_all_fig_managers():\n\u001B[1;32m---> 90\u001B[0m         \u001B[43mdisplay\u001B[49m\u001B[43m(\u001B[49m\n\u001B[0;32m     91\u001B[0m \u001B[43m            \u001B[49m\u001B[43mfigure_manager\u001B[49m\u001B[38;5;241;43m.\u001B[39;49m\u001B[43mcanvas\u001B[49m\u001B[38;5;241;43m.\u001B[39;49m\u001B[43mfigure\u001B[49m\u001B[43m,\u001B[49m\n\u001B[0;32m     92\u001B[0m \u001B[43m            \u001B[49m\u001B[43mmetadata\u001B[49m\u001B[38;5;241;43m=\u001B[39;49m\u001B[43m_fetch_figure_metadata\u001B[49m\u001B[43m(\u001B[49m\u001B[43mfigure_manager\u001B[49m\u001B[38;5;241;43m.\u001B[39;49m\u001B[43mcanvas\u001B[49m\u001B[38;5;241;43m.\u001B[39;49m\u001B[43mfigure\u001B[49m\u001B[43m)\u001B[49m\n\u001B[0;32m     93\u001B[0m \u001B[43m        \u001B[49m\u001B[43m)\u001B[49m\n\u001B[0;32m     94\u001B[0m \u001B[38;5;28;01mfinally\u001B[39;00m:\n\u001B[0;32m     95\u001B[0m     show\u001B[38;5;241m.\u001B[39m_to_draw \u001B[38;5;241m=\u001B[39m []\n",
      "File \u001B[1;32m~\\PycharmProjects\\PracticeAI\\venv\\lib\\site-packages\\IPython\\core\\display_functions.py:298\u001B[0m, in \u001B[0;36mdisplay\u001B[1;34m(include, exclude, metadata, transient, display_id, raw, clear, *objs, **kwargs)\u001B[0m\n\u001B[0;32m    296\u001B[0m     publish_display_data(data\u001B[38;5;241m=\u001B[39mobj, metadata\u001B[38;5;241m=\u001B[39mmetadata, \u001B[38;5;241m*\u001B[39m\u001B[38;5;241m*\u001B[39mkwargs)\n\u001B[0;32m    297\u001B[0m \u001B[38;5;28;01melse\u001B[39;00m:\n\u001B[1;32m--> 298\u001B[0m     format_dict, md_dict \u001B[38;5;241m=\u001B[39m \u001B[38;5;28;43mformat\u001B[39;49m\u001B[43m(\u001B[49m\u001B[43mobj\u001B[49m\u001B[43m,\u001B[49m\u001B[43m \u001B[49m\u001B[43minclude\u001B[49m\u001B[38;5;241;43m=\u001B[39;49m\u001B[43minclude\u001B[49m\u001B[43m,\u001B[49m\u001B[43m \u001B[49m\u001B[43mexclude\u001B[49m\u001B[38;5;241;43m=\u001B[39;49m\u001B[43mexclude\u001B[49m\u001B[43m)\u001B[49m\n\u001B[0;32m    299\u001B[0m     \u001B[38;5;28;01mif\u001B[39;00m \u001B[38;5;129;01mnot\u001B[39;00m format_dict:\n\u001B[0;32m    300\u001B[0m         \u001B[38;5;66;03m# nothing to display (e.g. _ipython_display_ took over)\u001B[39;00m\n\u001B[0;32m    301\u001B[0m         \u001B[38;5;28;01mcontinue\u001B[39;00m\n",
      "File \u001B[1;32m~\\PycharmProjects\\PracticeAI\\venv\\lib\\site-packages\\IPython\\core\\formatters.py:178\u001B[0m, in \u001B[0;36mDisplayFormatter.format\u001B[1;34m(self, obj, include, exclude)\u001B[0m\n\u001B[0;32m    176\u001B[0m md \u001B[38;5;241m=\u001B[39m \u001B[38;5;28;01mNone\u001B[39;00m\n\u001B[0;32m    177\u001B[0m \u001B[38;5;28;01mtry\u001B[39;00m:\n\u001B[1;32m--> 178\u001B[0m     data \u001B[38;5;241m=\u001B[39m \u001B[43mformatter\u001B[49m\u001B[43m(\u001B[49m\u001B[43mobj\u001B[49m\u001B[43m)\u001B[49m\n\u001B[0;32m    179\u001B[0m \u001B[38;5;28;01mexcept\u001B[39;00m:\n\u001B[0;32m    180\u001B[0m     \u001B[38;5;66;03m# FIXME: log the exception\u001B[39;00m\n\u001B[0;32m    181\u001B[0m     \u001B[38;5;28;01mraise\u001B[39;00m\n",
      "File \u001B[1;32m~\\PycharmProjects\\PracticeAI\\venv\\lib\\site-packages\\decorator.py:232\u001B[0m, in \u001B[0;36mdecorate.<locals>.fun\u001B[1;34m(*args, **kw)\u001B[0m\n\u001B[0;32m    230\u001B[0m \u001B[38;5;28;01mif\u001B[39;00m \u001B[38;5;129;01mnot\u001B[39;00m kwsyntax:\n\u001B[0;32m    231\u001B[0m     args, kw \u001B[38;5;241m=\u001B[39m fix(args, kw, sig)\n\u001B[1;32m--> 232\u001B[0m \u001B[38;5;28;01mreturn\u001B[39;00m caller(func, \u001B[38;5;241m*\u001B[39m(extras \u001B[38;5;241m+\u001B[39m args), \u001B[38;5;241m*\u001B[39m\u001B[38;5;241m*\u001B[39mkw)\n",
      "File \u001B[1;32m~\\PycharmProjects\\PracticeAI\\venv\\lib\\site-packages\\IPython\\core\\formatters.py:222\u001B[0m, in \u001B[0;36mcatch_format_error\u001B[1;34m(method, self, *args, **kwargs)\u001B[0m\n\u001B[0;32m    220\u001B[0m \u001B[38;5;124;03m\"\"\"show traceback on failed format call\"\"\"\u001B[39;00m\n\u001B[0;32m    221\u001B[0m \u001B[38;5;28;01mtry\u001B[39;00m:\n\u001B[1;32m--> 222\u001B[0m     r \u001B[38;5;241m=\u001B[39m method(\u001B[38;5;28mself\u001B[39m, \u001B[38;5;241m*\u001B[39margs, \u001B[38;5;241m*\u001B[39m\u001B[38;5;241m*\u001B[39mkwargs)\n\u001B[0;32m    223\u001B[0m \u001B[38;5;28;01mexcept\u001B[39;00m \u001B[38;5;167;01mNotImplementedError\u001B[39;00m:\n\u001B[0;32m    224\u001B[0m     \u001B[38;5;66;03m# don't warn on NotImplementedErrors\u001B[39;00m\n\u001B[0;32m    225\u001B[0m     \u001B[38;5;28;01mreturn\u001B[39;00m \u001B[38;5;28mself\u001B[39m\u001B[38;5;241m.\u001B[39m_check_return(\u001B[38;5;28;01mNone\u001B[39;00m, args[\u001B[38;5;241m0\u001B[39m])\n",
      "File \u001B[1;32m~\\PycharmProjects\\PracticeAI\\venv\\lib\\site-packages\\IPython\\core\\formatters.py:339\u001B[0m, in \u001B[0;36mBaseFormatter.__call__\u001B[1;34m(self, obj)\u001B[0m\n\u001B[0;32m    337\u001B[0m     \u001B[38;5;28;01mpass\u001B[39;00m\n\u001B[0;32m    338\u001B[0m \u001B[38;5;28;01melse\u001B[39;00m:\n\u001B[1;32m--> 339\u001B[0m     \u001B[38;5;28;01mreturn\u001B[39;00m \u001B[43mprinter\u001B[49m\u001B[43m(\u001B[49m\u001B[43mobj\u001B[49m\u001B[43m)\u001B[49m\n\u001B[0;32m    340\u001B[0m \u001B[38;5;66;03m# Finally look for special method names\u001B[39;00m\n\u001B[0;32m    341\u001B[0m method \u001B[38;5;241m=\u001B[39m get_real_method(obj, \u001B[38;5;28mself\u001B[39m\u001B[38;5;241m.\u001B[39mprint_method)\n",
      "File \u001B[1;32m~\\PycharmProjects\\PracticeAI\\venv\\lib\\site-packages\\IPython\\core\\pylabtools.py:151\u001B[0m, in \u001B[0;36mprint_figure\u001B[1;34m(fig, fmt, bbox_inches, base64, **kwargs)\u001B[0m\n\u001B[0;32m    148\u001B[0m     \u001B[38;5;28;01mfrom\u001B[39;00m \u001B[38;5;21;01mmatplotlib\u001B[39;00m\u001B[38;5;21;01m.\u001B[39;00m\u001B[38;5;21;01mbackend_bases\u001B[39;00m \u001B[38;5;28;01mimport\u001B[39;00m FigureCanvasBase\n\u001B[0;32m    149\u001B[0m     FigureCanvasBase(fig)\n\u001B[1;32m--> 151\u001B[0m fig\u001B[38;5;241m.\u001B[39mcanvas\u001B[38;5;241m.\u001B[39mprint_figure(bytes_io, \u001B[38;5;241m*\u001B[39m\u001B[38;5;241m*\u001B[39mkw)\n\u001B[0;32m    152\u001B[0m data \u001B[38;5;241m=\u001B[39m bytes_io\u001B[38;5;241m.\u001B[39mgetvalue()\n\u001B[0;32m    153\u001B[0m \u001B[38;5;28;01mif\u001B[39;00m fmt \u001B[38;5;241m==\u001B[39m \u001B[38;5;124m'\u001B[39m\u001B[38;5;124msvg\u001B[39m\u001B[38;5;124m'\u001B[39m:\n",
      "File \u001B[1;32m~\\PycharmProjects\\PracticeAI\\venv\\lib\\site-packages\\matplotlib\\backend_bases.py:2314\u001B[0m, in \u001B[0;36mFigureCanvasBase.print_figure\u001B[1;34m(self, filename, dpi, facecolor, edgecolor, orientation, format, bbox_inches, pad_inches, bbox_extra_artists, backend, **kwargs)\u001B[0m\n\u001B[0;32m   2308\u001B[0m     renderer \u001B[38;5;241m=\u001B[39m _get_renderer(\n\u001B[0;32m   2309\u001B[0m         \u001B[38;5;28mself\u001B[39m\u001B[38;5;241m.\u001B[39mfigure,\n\u001B[0;32m   2310\u001B[0m         functools\u001B[38;5;241m.\u001B[39mpartial(\n\u001B[0;32m   2311\u001B[0m             print_method, orientation\u001B[38;5;241m=\u001B[39morientation)\n\u001B[0;32m   2312\u001B[0m     )\n\u001B[0;32m   2313\u001B[0m     \u001B[38;5;28;01mwith\u001B[39;00m \u001B[38;5;28mgetattr\u001B[39m(renderer, \u001B[38;5;124m\"\u001B[39m\u001B[38;5;124m_draw_disabled\u001B[39m\u001B[38;5;124m\"\u001B[39m, nullcontext)():\n\u001B[1;32m-> 2314\u001B[0m         \u001B[38;5;28;43mself\u001B[39;49m\u001B[38;5;241;43m.\u001B[39;49m\u001B[43mfigure\u001B[49m\u001B[38;5;241;43m.\u001B[39;49m\u001B[43mdraw\u001B[49m\u001B[43m(\u001B[49m\u001B[43mrenderer\u001B[49m\u001B[43m)\u001B[49m\n\u001B[0;32m   2316\u001B[0m \u001B[38;5;28;01mif\u001B[39;00m bbox_inches:\n\u001B[0;32m   2317\u001B[0m     \u001B[38;5;28;01mif\u001B[39;00m bbox_inches \u001B[38;5;241m==\u001B[39m \u001B[38;5;124m\"\u001B[39m\u001B[38;5;124mtight\u001B[39m\u001B[38;5;124m\"\u001B[39m:\n",
      "File \u001B[1;32m~\\PycharmProjects\\PracticeAI\\venv\\lib\\site-packages\\matplotlib\\artist.py:74\u001B[0m, in \u001B[0;36m_finalize_rasterization.<locals>.draw_wrapper\u001B[1;34m(artist, renderer, *args, **kwargs)\u001B[0m\n\u001B[0;32m     72\u001B[0m \u001B[38;5;129m@wraps\u001B[39m(draw)\n\u001B[0;32m     73\u001B[0m \u001B[38;5;28;01mdef\u001B[39;00m \u001B[38;5;21mdraw_wrapper\u001B[39m(artist, renderer, \u001B[38;5;241m*\u001B[39margs, \u001B[38;5;241m*\u001B[39m\u001B[38;5;241m*\u001B[39mkwargs):\n\u001B[1;32m---> 74\u001B[0m     result \u001B[38;5;241m=\u001B[39m draw(artist, renderer, \u001B[38;5;241m*\u001B[39margs, \u001B[38;5;241m*\u001B[39m\u001B[38;5;241m*\u001B[39mkwargs)\n\u001B[0;32m     75\u001B[0m     \u001B[38;5;28;01mif\u001B[39;00m renderer\u001B[38;5;241m.\u001B[39m_rasterizing:\n\u001B[0;32m     76\u001B[0m         renderer\u001B[38;5;241m.\u001B[39mstop_rasterizing()\n",
      "File \u001B[1;32m~\\PycharmProjects\\PracticeAI\\venv\\lib\\site-packages\\matplotlib\\artist.py:51\u001B[0m, in \u001B[0;36mallow_rasterization.<locals>.draw_wrapper\u001B[1;34m(artist, renderer)\u001B[0m\n\u001B[0;32m     48\u001B[0m     \u001B[38;5;28;01mif\u001B[39;00m artist\u001B[38;5;241m.\u001B[39mget_agg_filter() \u001B[38;5;129;01mis\u001B[39;00m \u001B[38;5;129;01mnot\u001B[39;00m \u001B[38;5;28;01mNone\u001B[39;00m:\n\u001B[0;32m     49\u001B[0m         renderer\u001B[38;5;241m.\u001B[39mstart_filter()\n\u001B[1;32m---> 51\u001B[0m     \u001B[38;5;28;01mreturn\u001B[39;00m \u001B[43mdraw\u001B[49m\u001B[43m(\u001B[49m\u001B[43martist\u001B[49m\u001B[43m,\u001B[49m\u001B[43m \u001B[49m\u001B[43mrenderer\u001B[49m\u001B[43m)\u001B[49m\n\u001B[0;32m     52\u001B[0m \u001B[38;5;28;01mfinally\u001B[39;00m:\n\u001B[0;32m     53\u001B[0m     \u001B[38;5;28;01mif\u001B[39;00m artist\u001B[38;5;241m.\u001B[39mget_agg_filter() \u001B[38;5;129;01mis\u001B[39;00m \u001B[38;5;129;01mnot\u001B[39;00m \u001B[38;5;28;01mNone\u001B[39;00m:\n",
      "File \u001B[1;32m~\\PycharmProjects\\PracticeAI\\venv\\lib\\site-packages\\matplotlib\\figure.py:3069\u001B[0m, in \u001B[0;36mFigure.draw\u001B[1;34m(self, renderer)\u001B[0m\n\u001B[0;32m   3066\u001B[0m         \u001B[38;5;66;03m# ValueError can occur when resizing a window.\u001B[39;00m\n\u001B[0;32m   3068\u001B[0m \u001B[38;5;28mself\u001B[39m\u001B[38;5;241m.\u001B[39mpatch\u001B[38;5;241m.\u001B[39mdraw(renderer)\n\u001B[1;32m-> 3069\u001B[0m \u001B[43mmimage\u001B[49m\u001B[38;5;241;43m.\u001B[39;49m\u001B[43m_draw_list_compositing_images\u001B[49m\u001B[43m(\u001B[49m\n\u001B[0;32m   3070\u001B[0m \u001B[43m    \u001B[49m\u001B[43mrenderer\u001B[49m\u001B[43m,\u001B[49m\u001B[43m \u001B[49m\u001B[38;5;28;43mself\u001B[39;49m\u001B[43m,\u001B[49m\u001B[43m \u001B[49m\u001B[43martists\u001B[49m\u001B[43m,\u001B[49m\u001B[43m \u001B[49m\u001B[38;5;28;43mself\u001B[39;49m\u001B[38;5;241;43m.\u001B[39;49m\u001B[43msuppressComposite\u001B[49m\u001B[43m)\u001B[49m\n\u001B[0;32m   3072\u001B[0m \u001B[38;5;28;01mfor\u001B[39;00m sfig \u001B[38;5;129;01min\u001B[39;00m \u001B[38;5;28mself\u001B[39m\u001B[38;5;241m.\u001B[39msubfigs:\n\u001B[0;32m   3073\u001B[0m     sfig\u001B[38;5;241m.\u001B[39mdraw(renderer)\n",
      "File \u001B[1;32m~\\PycharmProjects\\PracticeAI\\venv\\lib\\site-packages\\matplotlib\\image.py:131\u001B[0m, in \u001B[0;36m_draw_list_compositing_images\u001B[1;34m(renderer, parent, artists, suppress_composite)\u001B[0m\n\u001B[0;32m    129\u001B[0m \u001B[38;5;28;01mif\u001B[39;00m not_composite \u001B[38;5;129;01mor\u001B[39;00m \u001B[38;5;129;01mnot\u001B[39;00m has_images:\n\u001B[0;32m    130\u001B[0m     \u001B[38;5;28;01mfor\u001B[39;00m a \u001B[38;5;129;01min\u001B[39;00m artists:\n\u001B[1;32m--> 131\u001B[0m         \u001B[43ma\u001B[49m\u001B[38;5;241;43m.\u001B[39;49m\u001B[43mdraw\u001B[49m\u001B[43m(\u001B[49m\u001B[43mrenderer\u001B[49m\u001B[43m)\u001B[49m\n\u001B[0;32m    132\u001B[0m \u001B[38;5;28;01melse\u001B[39;00m:\n\u001B[0;32m    133\u001B[0m     \u001B[38;5;66;03m# Composite any adjacent images together\u001B[39;00m\n\u001B[0;32m    134\u001B[0m     image_group \u001B[38;5;241m=\u001B[39m []\n",
      "File \u001B[1;32m~\\PycharmProjects\\PracticeAI\\venv\\lib\\site-packages\\matplotlib\\artist.py:51\u001B[0m, in \u001B[0;36mallow_rasterization.<locals>.draw_wrapper\u001B[1;34m(artist, renderer)\u001B[0m\n\u001B[0;32m     48\u001B[0m     \u001B[38;5;28;01mif\u001B[39;00m artist\u001B[38;5;241m.\u001B[39mget_agg_filter() \u001B[38;5;129;01mis\u001B[39;00m \u001B[38;5;129;01mnot\u001B[39;00m \u001B[38;5;28;01mNone\u001B[39;00m:\n\u001B[0;32m     49\u001B[0m         renderer\u001B[38;5;241m.\u001B[39mstart_filter()\n\u001B[1;32m---> 51\u001B[0m     \u001B[38;5;28;01mreturn\u001B[39;00m \u001B[43mdraw\u001B[49m\u001B[43m(\u001B[49m\u001B[43martist\u001B[49m\u001B[43m,\u001B[49m\u001B[43m \u001B[49m\u001B[43mrenderer\u001B[49m\u001B[43m)\u001B[49m\n\u001B[0;32m     52\u001B[0m \u001B[38;5;28;01mfinally\u001B[39;00m:\n\u001B[0;32m     53\u001B[0m     \u001B[38;5;28;01mif\u001B[39;00m artist\u001B[38;5;241m.\u001B[39mget_agg_filter() \u001B[38;5;129;01mis\u001B[39;00m \u001B[38;5;129;01mnot\u001B[39;00m \u001B[38;5;28;01mNone\u001B[39;00m:\n",
      "File \u001B[1;32m~\\PycharmProjects\\PracticeAI\\venv\\lib\\site-packages\\matplotlib\\axes\\_base.py:3099\u001B[0m, in \u001B[0;36m_AxesBase.draw\u001B[1;34m(self, renderer)\u001B[0m\n\u001B[0;32m   3096\u001B[0m \u001B[38;5;66;03m# the patch draws the background rectangle -- the frame below\u001B[39;00m\n\u001B[0;32m   3097\u001B[0m \u001B[38;5;66;03m# will draw the edges\u001B[39;00m\n\u001B[0;32m   3098\u001B[0m \u001B[38;5;28;01mif\u001B[39;00m \u001B[38;5;28mself\u001B[39m\u001B[38;5;241m.\u001B[39maxison \u001B[38;5;129;01mand\u001B[39;00m \u001B[38;5;28mself\u001B[39m\u001B[38;5;241m.\u001B[39m_frameon:\n\u001B[1;32m-> 3099\u001B[0m     \u001B[38;5;28;43mself\u001B[39;49m\u001B[38;5;241;43m.\u001B[39;49m\u001B[43mpatch\u001B[49m\u001B[38;5;241;43m.\u001B[39;49m\u001B[43mdraw\u001B[49m\u001B[43m(\u001B[49m\u001B[43mrenderer\u001B[49m\u001B[43m)\u001B[49m\n\u001B[0;32m   3101\u001B[0m \u001B[38;5;28;01mif\u001B[39;00m artists_rasterized:\n\u001B[0;32m   3102\u001B[0m     \u001B[38;5;28;01mfor\u001B[39;00m a \u001B[38;5;129;01min\u001B[39;00m artists_rasterized:\n",
      "File \u001B[1;32m~\\PycharmProjects\\PracticeAI\\venv\\lib\\site-packages\\matplotlib\\artist.py:51\u001B[0m, in \u001B[0;36mallow_rasterization.<locals>.draw_wrapper\u001B[1;34m(artist, renderer)\u001B[0m\n\u001B[0;32m     48\u001B[0m     \u001B[38;5;28;01mif\u001B[39;00m artist\u001B[38;5;241m.\u001B[39mget_agg_filter() \u001B[38;5;129;01mis\u001B[39;00m \u001B[38;5;129;01mnot\u001B[39;00m \u001B[38;5;28;01mNone\u001B[39;00m:\n\u001B[0;32m     49\u001B[0m         renderer\u001B[38;5;241m.\u001B[39mstart_filter()\n\u001B[1;32m---> 51\u001B[0m     \u001B[38;5;28;01mreturn\u001B[39;00m \u001B[43mdraw\u001B[49m\u001B[43m(\u001B[49m\u001B[43martist\u001B[49m\u001B[43m,\u001B[49m\u001B[43m \u001B[49m\u001B[43mrenderer\u001B[49m\u001B[43m)\u001B[49m\n\u001B[0;32m     52\u001B[0m \u001B[38;5;28;01mfinally\u001B[39;00m:\n\u001B[0;32m     53\u001B[0m     \u001B[38;5;28;01mif\u001B[39;00m artist\u001B[38;5;241m.\u001B[39mget_agg_filter() \u001B[38;5;129;01mis\u001B[39;00m \u001B[38;5;129;01mnot\u001B[39;00m \u001B[38;5;28;01mNone\u001B[39;00m:\n",
      "File \u001B[1;32m~\\PycharmProjects\\PracticeAI\\venv\\lib\\site-packages\\matplotlib\\patches.py:588\u001B[0m, in \u001B[0;36mPatch.draw\u001B[1;34m(self, renderer)\u001B[0m\n\u001B[0;32m    586\u001B[0m transform \u001B[38;5;241m=\u001B[39m \u001B[38;5;28mself\u001B[39m\u001B[38;5;241m.\u001B[39mget_transform()\n\u001B[0;32m    587\u001B[0m tpath \u001B[38;5;241m=\u001B[39m transform\u001B[38;5;241m.\u001B[39mtransform_path_non_affine(path)\n\u001B[1;32m--> 588\u001B[0m affine \u001B[38;5;241m=\u001B[39m \u001B[43mtransform\u001B[49m\u001B[38;5;241;43m.\u001B[39;49m\u001B[43mget_affine\u001B[49m\u001B[43m(\u001B[49m\u001B[43m)\u001B[49m\n\u001B[0;32m    589\u001B[0m \u001B[38;5;28mself\u001B[39m\u001B[38;5;241m.\u001B[39m_draw_paths_with_artist_properties(\n\u001B[0;32m    590\u001B[0m     renderer,\n\u001B[0;32m    591\u001B[0m     [(tpath, affine,\n\u001B[1;32m   (...)\u001B[0m\n\u001B[0;32m    594\u001B[0m       \u001B[38;5;66;03m# transparent, but do if it is None.\u001B[39;00m\n\u001B[0;32m    595\u001B[0m       \u001B[38;5;28mself\u001B[39m\u001B[38;5;241m.\u001B[39m_facecolor \u001B[38;5;28;01mif\u001B[39;00m \u001B[38;5;28mself\u001B[39m\u001B[38;5;241m.\u001B[39m_facecolor[\u001B[38;5;241m3\u001B[39m] \u001B[38;5;28;01melse\u001B[39;00m \u001B[38;5;28;01mNone\u001B[39;00m)])\n",
      "File \u001B[1;32m~\\PycharmProjects\\PracticeAI\\venv\\lib\\site-packages\\matplotlib\\transforms.py:2446\u001B[0m, in \u001B[0;36mCompositeGenericTransform.get_affine\u001B[1;34m(self)\u001B[0m\n\u001B[0;32m   2444\u001B[0m     \u001B[38;5;28;01mreturn\u001B[39;00m \u001B[38;5;28mself\u001B[39m\u001B[38;5;241m.\u001B[39m_b\u001B[38;5;241m.\u001B[39mget_affine()\n\u001B[0;32m   2445\u001B[0m \u001B[38;5;28;01melse\u001B[39;00m:\n\u001B[1;32m-> 2446\u001B[0m     \u001B[38;5;28;01mreturn\u001B[39;00m Affine2D(\u001B[43mnp\u001B[49m\u001B[38;5;241;43m.\u001B[39;49m\u001B[43mdot\u001B[49m\u001B[43m(\u001B[49m\u001B[38;5;28;43mself\u001B[39;49m\u001B[38;5;241;43m.\u001B[39;49m\u001B[43m_b\u001B[49m\u001B[38;5;241;43m.\u001B[39;49m\u001B[43mget_affine\u001B[49m\u001B[43m(\u001B[49m\u001B[43m)\u001B[49m\u001B[38;5;241;43m.\u001B[39;49m\u001B[43mget_matrix\u001B[49m\u001B[43m(\u001B[49m\u001B[43m)\u001B[49m\u001B[43m,\u001B[49m\n\u001B[0;32m   2447\u001B[0m \u001B[43m                           \u001B[49m\u001B[38;5;28;43mself\u001B[39;49m\u001B[38;5;241;43m.\u001B[39;49m\u001B[43m_a\u001B[49m\u001B[38;5;241;43m.\u001B[39;49m\u001B[43mget_affine\u001B[49m\u001B[43m(\u001B[49m\u001B[43m)\u001B[49m\u001B[38;5;241;43m.\u001B[39;49m\u001B[43mget_matrix\u001B[49m\u001B[43m(\u001B[49m\u001B[43m)\u001B[49m\u001B[43m)\u001B[49m)\n",
      "File \u001B[1;32m<__array_function__ internals>:180\u001B[0m, in \u001B[0;36mdot\u001B[1;34m(*args, **kwargs)\u001B[0m\n",
      "\u001B[1;31mKeyboardInterrupt\u001B[0m: "
     ]
    }
   ]
  },
  {
   "cell_type": "markdown",
   "source": [
    "# Отсутствие мультиколлинеарности\n",
    "\n",
    "Мультиколлинеарностью называют явление, которое заключается в наличии линейной зависимости между независимыми переменными (предикторами). Такое может возникать, например, при использовании признаков с естественной взаимосвязью: стаж работы и возраст (как правило, чем больше возраст - тем больше стаж и наоборот), количество детских садов и количество школ в районе (обычно детские сады бывают при школе, так что эти количества пропорционально взаимосвязаны) или баллы за экзамены IELTS и TOEFL (так как они экзамены проверяют примерно одни и те же знания и навыки)\n",
    "\n",
    "Последствием мультиколлинеарности является расширение доверительных интервалов для коэффициентов, и модель получается очень неустойчивой и меняющейся от добавления даже 1-2 новых наблюдений. Разумеется, это не очень хорошая для нас ситуация, поэтому мы должны отбирать для модели только те предикторы, между которыми нет линейной связи.\n",
    "\n",
    "Для того чтобы проверить данную предпосылку, нам необходимо построить матрицу корреляций для всех потенциальных предикторов, и отследить наличие сильной корреляционной связи. Нет четкой границы, которая отделяет допустимую взаимосвязь и недопустимую, но в ряде источников используется граница в районе 0.9. То есть, если между предикторами коэффициент корреляции по модулю больше, чем 0.9, то мы не можем оба этих предиктора использовать для модели.\n",
    "\n",
    "Почитать:\n",
    "\n",
    "[wiki](https://ru.wikipedia.org/wiki/%D0%9C%D1%83%D0%BB%D1%8C%D1%82%D0%B8%D0%BA%D0%BE%D0%BB%D0%BB%D0%B8%D0%BD%D0%B5%D0%B0%D1%80%D0%BD%D0%BE%D1%81%D1%82%D1%8C#:~:text=%D0%9C%D1%83%D0%BB%D1%8C%D1%82%D0%B8%D0%BA%D0%BE%D0%BB%D0%BB%D0%B8%D0%BD%D0%B5%D0%B0%D1%80%D0%BD%D0%BE%D1%81%D1%82%D1%8C%20(multicollinearity)%20%E2%80%94%20%D0%B2%20%D1%8D%D0%BA%D0%BE%D0%BD%D0%BE%D0%BC%D0%B5%D1%82%D1%80%D0%B8%D0%BA%D0%B5,%D0%BD%D0%B0%D0%BB%D0%B8%D1%87%D0%B8%D0%B5%20%D1%81%D0%B8%D0%BB%D1%8C%D0%BD%D0%BE%D0%B9%20%D0%BA%D0%BE%D1%80%D1%80%D0%B5%D0%BB%D1%8F%D1%86%D0%B8%D0%B8%20%D0%BC%D0%B5%D0%B6%D0%B4%D1%83%20%D1%84%D0%B0%D0%BA%D1%82%D0%BE%D1%80%D0%B0%D0%BC%D0%B8)\n",
    "\n",
    "[статья](https://towardsdatascience.com/why-multicollinearity-isnt-an-issue-in-machine-learning-5c9aa2f1a83a)\n"
   ],
   "metadata": {
    "id": "2eUVI1VIinnU",
    "pycharm": {
     "name": "#%% md\n"
    }
   }
  },
  {
   "cell_type": "code",
   "source": [
    "cols_num = ['Feature 1', 'Feature 2', 'Feature 3']\n",
    "\n",
    "correlation = df.corr().loc[cols_num, cols_num]\n",
    "correlation"
   ],
   "metadata": {
    "id": "iUzegBllDsBn",
    "colab": {
     "base_uri": "https://localhost:8080/",
     "height": 143
    },
    "outputId": "38d81de7-f182-4b44-c85b-8e166a84f23c",
    "pycharm": {
     "name": "#%%\n"
    }
   },
   "execution_count": null,
   "outputs": [
    {
     "output_type": "execute_result",
     "data": {
      "text/plain": [
       "           Feature 1  Feature 2  Feature 3\n",
       "Feature 1   1.000000   0.054809   0.056648\n",
       "Feature 2   0.054809   1.000000   0.354104\n",
       "Feature 3   0.056648   0.354104   1.000000"
      ],
      "text/html": [
       "\n",
       "  <div id=\"df-ff7cf7cc-f27c-47f3-b49e-f4e5dddcace4\">\n",
       "    <div class=\"colab-df-container\">\n",
       "      <div>\n",
       "<style scoped>\n",
       "    .dataframe tbody tr th:only-of-type {\n",
       "        vertical-align: middle;\n",
       "    }\n",
       "\n",
       "    .dataframe tbody tr th {\n",
       "        vertical-align: top;\n",
       "    }\n",
       "\n",
       "    .dataframe thead th {\n",
       "        text-align: right;\n",
       "    }\n",
       "</style>\n",
       "<table border=\"1\" class=\"dataframe\">\n",
       "  <thead>\n",
       "    <tr style=\"text-align: right;\">\n",
       "      <th></th>\n",
       "      <th>Feature 1</th>\n",
       "      <th>Feature 2</th>\n",
       "      <th>Feature 3</th>\n",
       "    </tr>\n",
       "  </thead>\n",
       "  <tbody>\n",
       "    <tr>\n",
       "      <th>Feature 1</th>\n",
       "      <td>1.000000</td>\n",
       "      <td>0.054809</td>\n",
       "      <td>0.056648</td>\n",
       "    </tr>\n",
       "    <tr>\n",
       "      <th>Feature 2</th>\n",
       "      <td>0.054809</td>\n",
       "      <td>1.000000</td>\n",
       "      <td>0.354104</td>\n",
       "    </tr>\n",
       "    <tr>\n",
       "      <th>Feature 3</th>\n",
       "      <td>0.056648</td>\n",
       "      <td>0.354104</td>\n",
       "      <td>1.000000</td>\n",
       "    </tr>\n",
       "  </tbody>\n",
       "</table>\n",
       "</div>\n",
       "      <button class=\"colab-df-convert\" onclick=\"convertToInteractive('df-ff7cf7cc-f27c-47f3-b49e-f4e5dddcace4')\"\n",
       "              title=\"Convert this dataframe to an interactive table.\"\n",
       "              style=\"display:none;\">\n",
       "        \n",
       "  <svg xmlns=\"http://www.w3.org/2000/svg\" height=\"24px\"viewBox=\"0 0 24 24\"\n",
       "       width=\"24px\">\n",
       "    <path d=\"M0 0h24v24H0V0z\" fill=\"none\"/>\n",
       "    <path d=\"M18.56 5.44l.94 2.06.94-2.06 2.06-.94-2.06-.94-.94-2.06-.94 2.06-2.06.94zm-11 1L8.5 8.5l.94-2.06 2.06-.94-2.06-.94L8.5 2.5l-.94 2.06-2.06.94zm10 10l.94 2.06.94-2.06 2.06-.94-2.06-.94-.94-2.06-.94 2.06-2.06.94z\"/><path d=\"M17.41 7.96l-1.37-1.37c-.4-.4-.92-.59-1.43-.59-.52 0-1.04.2-1.43.59L10.3 9.45l-7.72 7.72c-.78.78-.78 2.05 0 2.83L4 21.41c.39.39.9.59 1.41.59.51 0 1.02-.2 1.41-.59l7.78-7.78 2.81-2.81c.8-.78.8-2.07 0-2.86zM5.41 20L4 18.59l7.72-7.72 1.47 1.35L5.41 20z\"/>\n",
       "  </svg>\n",
       "      </button>\n",
       "      \n",
       "  <style>\n",
       "    .colab-df-container {\n",
       "      display:flex;\n",
       "      flex-wrap:wrap;\n",
       "      gap: 12px;\n",
       "    }\n",
       "\n",
       "    .colab-df-convert {\n",
       "      background-color: #E8F0FE;\n",
       "      border: none;\n",
       "      border-radius: 50%;\n",
       "      cursor: pointer;\n",
       "      display: none;\n",
       "      fill: #1967D2;\n",
       "      height: 32px;\n",
       "      padding: 0 0 0 0;\n",
       "      width: 32px;\n",
       "    }\n",
       "\n",
       "    .colab-df-convert:hover {\n",
       "      background-color: #E2EBFA;\n",
       "      box-shadow: 0px 1px 2px rgba(60, 64, 67, 0.3), 0px 1px 3px 1px rgba(60, 64, 67, 0.15);\n",
       "      fill: #174EA6;\n",
       "    }\n",
       "\n",
       "    [theme=dark] .colab-df-convert {\n",
       "      background-color: #3B4455;\n",
       "      fill: #D2E3FC;\n",
       "    }\n",
       "\n",
       "    [theme=dark] .colab-df-convert:hover {\n",
       "      background-color: #434B5C;\n",
       "      box-shadow: 0px 1px 3px 1px rgba(0, 0, 0, 0.15);\n",
       "      filter: drop-shadow(0px 1px 2px rgba(0, 0, 0, 0.3));\n",
       "      fill: #FFFFFF;\n",
       "    }\n",
       "  </style>\n",
       "\n",
       "      <script>\n",
       "        const buttonEl =\n",
       "          document.querySelector('#df-ff7cf7cc-f27c-47f3-b49e-f4e5dddcace4 button.colab-df-convert');\n",
       "        buttonEl.style.display =\n",
       "          google.colab.kernel.accessAllowed ? 'block' : 'none';\n",
       "\n",
       "        async function convertToInteractive(key) {\n",
       "          const element = document.querySelector('#df-ff7cf7cc-f27c-47f3-b49e-f4e5dddcace4');\n",
       "          const dataTable =\n",
       "            await google.colab.kernel.invokeFunction('convertToInteractive',\n",
       "                                                     [key], {});\n",
       "          if (!dataTable) return;\n",
       "\n",
       "          const docLinkHtml = 'Like what you see? Visit the ' +\n",
       "            '<a target=\"_blank\" href=https://colab.research.google.com/notebooks/data_table.ipynb>data table notebook</a>'\n",
       "            + ' to learn more about interactive tables.';\n",
       "          element.innerHTML = '';\n",
       "          dataTable['output_type'] = 'display_data';\n",
       "          await google.colab.output.renderOutput(dataTable, element);\n",
       "          const docLink = document.createElement('div');\n",
       "          docLink.innerHTML = docLinkHtml;\n",
       "          element.appendChild(docLink);\n",
       "        }\n",
       "      </script>\n",
       "    </div>\n",
       "  </div>\n",
       "  "
      ]
     },
     "metadata": {},
     "execution_count": 18
    }
   ]
  },
  {
   "cell_type": "code",
   "source": [
    "\n",
    "fig , ax = plt.subplots(figsize = (14,12))\n",
    "\n",
    "sns.heatmap(correlation, \n",
    "            linewidths=0.5, annot=True,cmap='viridis',\n",
    "            linecolor=\"white\", annot_kws = {'size':12})"
   ],
   "metadata": {
    "id": "kaYA6UAoD1wa",
    "colab": {
     "base_uri": "https://localhost:8080/",
     "height": 721
    },
    "outputId": "29ba78db-d36a-44cd-dc06-a9790ac47726",
    "pycharm": {
     "name": "#%%\n"
    }
   },
   "execution_count": null,
   "outputs": [
    {
     "output_type": "execute_result",
     "data": {
      "text/plain": [
       "<matplotlib.axes._subplots.AxesSubplot at 0x7f110633d490>"
      ]
     },
     "metadata": {},
     "execution_count": 19
    },
    {
     "output_type": "display_data",
     "data": {
      "text/plain": [
       "<Figure size 1008x864 with 2 Axes>"
      ],
      "image/png": "[encoded data removed]"
     },
     "metadata": {
      "needs_background": "light"
     }
    }
   ]
  },
  {
   "cell_type": "markdown",
   "source": [
    "Фактор инфляции дисперсии\n",
    "\n",
    "vif > 10 - выраженная мультиколлинеарность"
   ],
   "metadata": {
    "id": "4tNfOiiOG9rp",
    "pycharm": {
     "name": "#%% md\n"
    }
   }
  },
  {
   "cell_type": "code",
   "source": [
    "vif = [variance_inflation_factor(X_train.values, i) for i in range(X_train.shape[1])]\n",
    "pd.DataFrame({'vif': vif[0:]}, index=X_train.columns).T"
   ],
   "metadata": {
    "id": "WCcSlRCgP6FG",
    "colab": {
     "base_uri": "https://localhost:8080/",
     "height": 81
    },
    "outputId": "bda07328-d489-4f7b-b3ed-f44da854234d",
    "pycharm": {
     "name": "#%%\n"
    }
   },
   "execution_count": null,
   "outputs": [
    {
     "output_type": "execute_result",
     "data": {
      "text/plain": [
       "     Feature 1  Feature 2  Feature 3\n",
       "vif   2.697679   3.473818   3.162643"
      ],
      "text/html": [
       "\n",
       "  <div id=\"df-945068d2-0374-41cb-a019-493872f32522\">\n",
       "    <div class=\"colab-df-container\">\n",
       "      <div>\n",
       "<style scoped>\n",
       "    .dataframe tbody tr th:only-of-type {\n",
       "        vertical-align: middle;\n",
       "    }\n",
       "\n",
       "    .dataframe tbody tr th {\n",
       "        vertical-align: top;\n",
       "    }\n",
       "\n",
       "    .dataframe thead th {\n",
       "        text-align: right;\n",
       "    }\n",
       "</style>\n",
       "<table border=\"1\" class=\"dataframe\">\n",
       "  <thead>\n",
       "    <tr style=\"text-align: right;\">\n",
       "      <th></th>\n",
       "      <th>Feature 1</th>\n",
       "      <th>Feature 2</th>\n",
       "      <th>Feature 3</th>\n",
       "    </tr>\n",
       "  </thead>\n",
       "  <tbody>\n",
       "    <tr>\n",
       "      <th>vif</th>\n",
       "      <td>2.697679</td>\n",
       "      <td>3.473818</td>\n",
       "      <td>3.162643</td>\n",
       "    </tr>\n",
       "  </tbody>\n",
       "</table>\n",
       "</div>\n",
       "      <button class=\"colab-df-convert\" onclick=\"convertToInteractive('df-945068d2-0374-41cb-a019-493872f32522')\"\n",
       "              title=\"Convert this dataframe to an interactive table.\"\n",
       "              style=\"display:none;\">\n",
       "        \n",
       "  <svg xmlns=\"http://www.w3.org/2000/svg\" height=\"24px\"viewBox=\"0 0 24 24\"\n",
       "       width=\"24px\">\n",
       "    <path d=\"M0 0h24v24H0V0z\" fill=\"none\"/>\n",
       "    <path d=\"M18.56 5.44l.94 2.06.94-2.06 2.06-.94-2.06-.94-.94-2.06-.94 2.06-2.06.94zm-11 1L8.5 8.5l.94-2.06 2.06-.94-2.06-.94L8.5 2.5l-.94 2.06-2.06.94zm10 10l.94 2.06.94-2.06 2.06-.94-2.06-.94-.94-2.06-.94 2.06-2.06.94z\"/><path d=\"M17.41 7.96l-1.37-1.37c-.4-.4-.92-.59-1.43-.59-.52 0-1.04.2-1.43.59L10.3 9.45l-7.72 7.72c-.78.78-.78 2.05 0 2.83L4 21.41c.39.39.9.59 1.41.59.51 0 1.02-.2 1.41-.59l7.78-7.78 2.81-2.81c.8-.78.8-2.07 0-2.86zM5.41 20L4 18.59l7.72-7.72 1.47 1.35L5.41 20z\"/>\n",
       "  </svg>\n",
       "      </button>\n",
       "      \n",
       "  <style>\n",
       "    .colab-df-container {\n",
       "      display:flex;\n",
       "      flex-wrap:wrap;\n",
       "      gap: 12px;\n",
       "    }\n",
       "\n",
       "    .colab-df-convert {\n",
       "      background-color: #E8F0FE;\n",
       "      border: none;\n",
       "      border-radius: 50%;\n",
       "      cursor: pointer;\n",
       "      display: none;\n",
       "      fill: #1967D2;\n",
       "      height: 32px;\n",
       "      padding: 0 0 0 0;\n",
       "      width: 32px;\n",
       "    }\n",
       "\n",
       "    .colab-df-convert:hover {\n",
       "      background-color: #E2EBFA;\n",
       "      box-shadow: 0px 1px 2px rgba(60, 64, 67, 0.3), 0px 1px 3px 1px rgba(60, 64, 67, 0.15);\n",
       "      fill: #174EA6;\n",
       "    }\n",
       "\n",
       "    [theme=dark] .colab-df-convert {\n",
       "      background-color: #3B4455;\n",
       "      fill: #D2E3FC;\n",
       "    }\n",
       "\n",
       "    [theme=dark] .colab-df-convert:hover {\n",
       "      background-color: #434B5C;\n",
       "      box-shadow: 0px 1px 3px 1px rgba(0, 0, 0, 0.15);\n",
       "      filter: drop-shadow(0px 1px 2px rgba(0, 0, 0, 0.3));\n",
       "      fill: #FFFFFF;\n",
       "    }\n",
       "  </style>\n",
       "\n",
       "      <script>\n",
       "        const buttonEl =\n",
       "          document.querySelector('#df-945068d2-0374-41cb-a019-493872f32522 button.colab-df-convert');\n",
       "        buttonEl.style.display =\n",
       "          google.colab.kernel.accessAllowed ? 'block' : 'none';\n",
       "\n",
       "        async function convertToInteractive(key) {\n",
       "          const element = document.querySelector('#df-945068d2-0374-41cb-a019-493872f32522');\n",
       "          const dataTable =\n",
       "            await google.colab.kernel.invokeFunction('convertToInteractive',\n",
       "                                                     [key], {});\n",
       "          if (!dataTable) return;\n",
       "\n",
       "          const docLinkHtml = 'Like what you see? Visit the ' +\n",
       "            '<a target=\"_blank\" href=https://colab.research.google.com/notebooks/data_table.ipynb>data table notebook</a>'\n",
       "            + ' to learn more about interactive tables.';\n",
       "          element.innerHTML = '';\n",
       "          dataTable['output_type'] = 'display_data';\n",
       "          await google.colab.output.renderOutput(dataTable, element);\n",
       "          const docLink = document.createElement('div');\n",
       "          docLink.innerHTML = docLinkHtml;\n",
       "          element.appendChild(docLink);\n",
       "        }\n",
       "      </script>\n",
       "    </div>\n",
       "  </div>\n",
       "  "
      ]
     },
     "metadata": {},
     "execution_count": 20
    }
   ]
  },
  {
   "cell_type": "markdown",
   "source": [
    "# Нормальное распределение ошибок\n",
    "После того как мы построили модель регрессии, мы можем вычислить ошибки (остатки): разницы между реальным значением $y$ и предсказанным $\\hat{y}$. Важным условием является нормальность распределения этих ошибок. То есть, распределение остатков должно стремиться к нормальному распределению. Проверить выполняемость этого условия можно визуально с помощью гистограммы или с помощью специальных статистических тестов.\n",
    "\n",
    "В целом, такое условие связано не напрямую с остатками, а с тем, что зависимая переменная должна быть распределена нормально для любых значений х. Однако такое условие проверить довольно сложно, поэтому можно проверить такое условие с помощью анализа распределения остатков."
   ],
   "metadata": {
    "id": "Lv9TKOyzjIGo",
    "pycharm": {
     "name": "#%% md\n"
    }
   }
  },
  {
   "cell_type": "code",
   "source": [
    "sns.histplot(residual, kde=True, stat=\"density\", linewidth=0)"
   ],
   "metadata": {
    "id": "RdtFAOSEi0Kd",
    "pycharm": {
     "name": "#%%\n"
    }
   },
   "execution_count": null,
   "outputs": []
  },
  {
   "cell_type": "code",
   "source": [
    "fig, ax = plt.subplots(figsize=(6,2.5))\n",
    "_, (__, ___, r) = sp.stats.probplot(residual, plot=ax, fit=True)"
   ],
   "metadata": {
    "id": "MvXQ6SQXj3_k",
    "pycharm": {
     "name": "#%%\n"
    }
   },
   "execution_count": null,
   "outputs": []
  },
  {
   "cell_type": "code",
   "source": [
    "np.mean(residual)"
   ],
   "metadata": {
    "id": "TSeQ7yiEj6hI",
    "pycharm": {
     "name": "#%%\n"
    }
   },
   "execution_count": null,
   "outputs": []
  },
  {
   "cell_type": "markdown",
   "source": [
    "# Гомоскедастичность \n",
    "Гомоскедастичность ошибок заключается в том, что разброс остатков при любых значениях независимых переменных одинаковый. \n",
    "\n",
    "Если предположение о гомоскедастичности нарушается, т.е. имеет место гетероскедастичность, это может затруднить интерпретацию результатов регрессии, поскольку в этом случае значение выходной переменной зависит не только от величины изменения входной, но и от того, относительно какой величины это изменение происходит.\n",
    "\n",
    "Например, если использовать при построении регрессионной модели данные о доходе клиентов, то попытка применить одну модель для богатых и бедных может вызвать проблемы. Действительно, если изменение суммы дохода на 1 000 руб. окажется значимым для клиента с доходом 10 000 руб., то для клиента с доходом 1 000 000 руб. это не так. А регрессионная модель, тем не менее, применяет к ним одну и ту же закономерность. Чтобы этого не произошло, клиентов с низкими и высокими доходами следует разбить на две выборки и таким образом обеспечить гомоскедастичность.\n",
    "\n",
    "[wiki](https://ru.wikipedia.org/wiki/%D0%93%D0%BE%D0%BC%D0%BE%D1%81%D0%BA%D0%B5%D0%B4%D0%B0%D1%81%D1%82%D0%B8%D1%87%D0%BD%D0%BE%D1%81%D1%82%D1%8C)"
   ],
   "metadata": {
    "id": "2z7c7fmZj-HK",
    "pycharm": {
     "name": "#%% md\n"
    }
   }
  },
  {
   "cell_type": "code",
   "source": [
    "fig, ax = plt.subplots(figsize=(6,2.5))\n",
    "_ = ax.scatter(y_pred, residual)"
   ],
   "metadata": {
    "id": "Ef7jHuknj-4r",
    "pycharm": {
     "name": "#%%\n"
    }
   },
   "execution_count": null,
   "outputs": []
  },
  {
   "cell_type": "markdown",
   "source": [
    "# Отсутствие автокорреляции остатков\n",
    "Автокорреляция остатков (ошибок) возникает в ситуации, когда есть линейная взаимосвязь между остатками для одних значений предикторов и остатками для других значений предикторов. Такое может проявляться в силу естественных причин, как и в случае сс мультиколлинеарностью. Например, если мы предсказываем какие-то показатели для соседних регионов страны, то, скорее всего, они будут сильно взаимосвязаны просто в силу схожести характеристик этих объектов.\n",
    "\n",
    "Автокорреляция влечет за собой некорректные результаты. Стандартные ошибки получаются несостоятельными, и мы не можем строить корректные доверительные интервалы и проверять гипотезы классическими способами.\n",
    "\n",
    "[wiki](https://ru.wikipedia.org/wiki/%D0%90%D0%B2%D1%82%D0%BE%D0%BA%D0%BE%D1%80%D1%80%D0%B5%D0%BB%D1%8F%D1%86%D0%B8%D0%BE%D0%BD%D0%BD%D0%B0%D1%8F_%D1%84%D1%83%D0%BD%D0%BA%D1%86%D0%B8%D1%8F)"
   ],
   "metadata": {
    "id": "XWs7ghcBkfgD",
    "pycharm": {
     "name": "#%% md\n"
    }
   }
  },
  {
   "cell_type": "code",
   "source": [
    "acf = smt.graphics.plot_acf(residual, lags=40 , alpha=0.05)\n",
    "acf.show()"
   ],
   "metadata": {
    "id": "XZevRlLLkews",
    "pycharm": {
     "name": "#%%\n"
    }
   },
   "execution_count": null,
   "outputs": []
  },
  {
   "cell_type": "markdown",
   "source": [
    "\n",
    "## Матрицами ([статья](https://habr.com/en/post/479398/))\n",
    "\n",
    "## $\\beta^* = (X^T \\cdot X)^{-1}\\cdot X^T \\cdot Y$\n",
    "\n"
   ],
   "metadata": {
    "id": "N_eu2jr_0ZNH",
    "pycharm": {
     "name": "#%% md\n"
    }
   }
  },
  {
   "cell_type": "code",
   "source": [
    "# тут будет код"
   ],
   "metadata": {
    "id": "4Y5F-MCi0fNI",
    "pycharm": {
     "name": "#%%\n"
    }
   },
   "execution_count": null,
   "outputs": []
  },
  {
   "cell_type": "markdown",
   "source": [
    "## Градиентным спуском  ([статья](https://habr.com/en/post/474602/))\n",
    "\n",
    "Инициализируем случайную точку (часто берут просто нули):\n",
    "\n",
    "$$\n",
    "\\beta_0 = (0\\;\\; 0 ...)\n",
    "$$\n",
    "\n",
    "Итеративно скачем по линиям уровня нашей функции, шагая каждый раз в сторону антиградиента с корректировкой шага $\\eta_k$:\n",
    "\n",
    "$$\n",
    "\\beta_{k+1} = \\beta_k - \\eta_{k}\\cdot\\nabla Q(\\beta_k, X)\n",
    "$$\n",
    " \n",
    "Останавливаемся, когда срабатывает критерий останова. Например:\n",
    "\n",
    "$$\n",
    "|\\beta_{k+1} - \\beta_k| < \\xi\n",
    "$$\n",
    "\n",
    "Пусть имеем 3 объекта $(X, Y)^i$ = $\\left((d_i, 1), Y_i \\right)$ с 3 признаками $d_1$, $d_2$ (+ константа). Хотим оценить обычную линейную модель:\n",
    "\n",
    "$$\n",
    "a(x) = \\beta_1 \\cdot d_1 + \\beta_2 \\cdot d_2 + \\beta_0\n",
    "$$\n",
    "\n",
    "Тогда функционал ошибки как среднеквадратическая ошибка на нашей выборке выглядит следующим образом:\n",
    "\n",
    "$$\n",
    "Q(a, X) = \\frac{1}{N}\\cdot\\sum_{i=1}^N (\\beta_1 \\cdot d_{i1} + \\beta_2 \\cdot d_{i2} + \\beta_0 - y_i)^2\n",
    "$$\n",
    "\n",
    "Посчитаем вектор-градиент по всем оцениваемым параметрам:\n",
    "\n",
    "$$\n",
    "\\nabla Q(a, X) = (Q'_{\\beta_1} \\;\\;\\; Q'_{\\beta_2} \\;\\;\\; Q'_{\\beta_0})\n",
    "$$\n",
    "\n",
    "Пример расчета производной по параметру у признака номер 1:\n",
    "\n",
    "$$\n",
    "Q'_{\\beta_1} = \\frac{2}{N} \\cdot \\sum_{i=1}^N d_{i1} \\cdot (\\beta_1 \\cdot d_{i1} + \\beta_2 \\cdot d_{i2} + \\beta_0 - y_i)\n",
    "$$"
   ],
   "metadata": {
    "id": "ucYDZTHx0cPC",
    "pycharm": {
     "name": "#%% md\n"
    }
   }
  },
  {
   "cell_type": "code",
   "source": [
    "# тут будет код"
   ],
   "metadata": {
    "id": "O8dfFwPUYKb5",
    "pycharm": {
     "name": "#%%\n"
    }
   },
   "execution_count": null,
   "outputs": []
  },
  {
   "cell_type": "markdown",
   "source": [
    "# Тут будет описание"
   ],
   "metadata": {
    "id": "o63p_NduPK4Z",
    "pycharm": {
     "name": "#%% md\n"
    }
   }
  },
  {
   "cell_type": "markdown",
   "source": [
    "# По материалам\n",
    "1. https://github.com/bhattbhavesh91/linear-regression-assumptions\n",
    "2. https://towardsdatascience.com/assumptions-of-linear-regression-fdb71ebeaa8b\n",
    "3. https://habr.com/en/post/690414/\n",
    "4. Еще каких-то хороших людей"
   ],
   "metadata": {
    "id": "X1IhiyYgPKpu",
    "pycharm": {
     "name": "#%% md\n"
    }
   }
  }
 ]
}